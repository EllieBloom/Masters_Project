{
 "cells": [
  {
   "cell_type": "markdown",
   "id": "dc65ac0a-7dd3-43f8-9003-de5a633456d9",
   "metadata": {},
   "source": [
    "# Exploring time series in python\n",
    "\n",
    "**Date started**: 21st June 2022\n",
    "\n",
    "**Guide**: https://rishi-a.github.io/2020/05/25/granger-causality.html\n",
    "\n",
    "**Factors to consider altering/adding**: \n",
    "* Normalisation\n",
    "* Transformation (log)\n",
    "* Checking all VAR fit stats\n",
    "* Lag"
   ]
  },
  {
   "cell_type": "code",
   "execution_count": 10,
   "id": "7256c70f-3132-4e27-84ee-d55b8c40f968",
   "metadata": {},
   "outputs": [],
   "source": [
    "# Packages\n",
    "\n",
    "import numpy as np\n",
    "import matplotlib.pyplot as plt\n",
    "import pandas as pd\n",
    "import datetime as dt\n",
    "import statsmodels.tsa.stattools as smt\n",
    "from statsmodels.tsa.api import VAR"
   ]
  },
  {
   "cell_type": "code",
   "execution_count": 11,
   "id": "005444be-2127-4451-a393-70ee13275ae6",
   "metadata": {},
   "outputs": [],
   "source": [
    "# Use this to install any packages required in general:\n",
    "\n",
    "# import subprocess\n",
    "# import sys\n",
    "\n",
    "# def install(package):\n",
    "#    subprocess.check_call([sys.executable, \"-m\", \"pip\", \"install\", package])\n",
    "    \n",
    "# install(\"johansen\")"
   ]
  },
  {
   "cell_type": "code",
   "execution_count": 12,
   "id": "3b500981-841c-45b8-926f-1bf517a89ae8",
   "metadata": {},
   "outputs": [
    {
     "name": "stdout",
     "output_type": "stream",
     "text": [
      "<class 'datetime.datetime'>\n",
      "Start date is: 2020-05-01 00:00:00, i.e. start of REACT data\n",
      "End date is: 2020-10-05 00:00:00, i.e. one month before the end of lockdown 1\n"
     ]
    }
   ],
   "source": [
    "# Useful dates\n",
    "\n",
    "\n",
    "bank_holidays = [\"2020-01-01\",\"2020-04-10\",\"2020-04-13\",\"2020-05-08\",\n",
    "                \"2020-05-25\",\"2020-08-31\",\"2020-12-25\",\"2020-12-28\",\n",
    "                \"2021-01-01\",\"2021-04-02\",\"2021-04-05\",\"2021-05-03\",\n",
    "                \"2021-05-31\",\"2021-08-30\",\"2021-12-27\",\"2021-12-28\",\n",
    "                \"2022-01-03\",\"2022-04-15\",\"2022-04-18\",\"2022-05-02\"]\n",
    "\n",
    "\n",
    "type(bank_holidays[0]) # They are currently strings\n",
    "bank_holidays = [dt.datetime.strptime(item, \"%Y-%m-%d\") for item in bank_holidays]\n",
    "type(bank_holidays[0]) # Now datetime objects\n",
    "\n",
    "lockdown_1_start = dt.datetime.strptime(\"2020-03-26\",\"%Y-%m-%d\")\n",
    "lockdown_1_end = dt.datetime.strptime(\"2020-06-15\",\"%Y-%m-%d\")\n",
    "\n",
    "lockdown_2_start = dt.datetime.strptime(\"2020-11-05\",\"%Y-%m-%d\")\n",
    "lockdown_2_end = dt.datetime.strptime(\"2020-12-02\",\"%Y-%m-%d\")\n",
    "\n",
    "lockdown_3_start = dt.datetime.strptime(\"2021-01-06\",\"%Y-%m-%d\")\n",
    "lockdown_3_end = dt.datetime.strptime(\"2021-04-21\",\"%Y-%m-%d\")\n",
    "\n",
    "\n",
    "REACT_start = dt.datetime.strptime(\"2020-05-01\",\"%Y-%m-%d\")\n",
    "\n",
    "from dateutil.relativedelta import relativedelta\n",
    "start_date = REACT_start\n",
    "print(type(start_date))\n",
    "end_date = lockdown_2_start-relativedelta(months=1)\n",
    "\n",
    "print(f'Start date is: {start_date}, i.e. start of REACT data')\n",
    "print(f'End date is: {end_date}, i.e. one month before the end of lockdown 1')"
   ]
  },
  {
   "cell_type": "markdown",
   "id": "9455d4a1-c8cf-4cef-ac34-4e1de75b2062",
   "metadata": {},
   "source": [
    "## Time Series\n",
    "\n",
    "Exploring Granger Causality using tutorial - https://rishi-a.github.io/2020/05/25/granger-causality.html"
   ]
  },
  {
   "cell_type": "code",
   "execution_count": 13,
   "id": "837c303a-8121-4390-b22d-04363ca73811",
   "metadata": {},
   "outputs": [],
   "source": [
    "# Loading data\n",
    "\n",
    "mob_long = pd.read_csv(\"/Users/elliebloom/Desktop/Masters/Project/Analysis/Mapping/Outputs/google_regional_long.csv\", index_col='date',parse_dates=['date'])\n",
    "mob_wide = pd.read_csv(\"/Users/elliebloom/Desktop/Masters/Project/Analysis/Mapping/Outputs/google_regional_wide.csv\", index_col='date',parse_dates=['date'])\n",
    "prev = pd.read_csv(\"/Users/elliebloom/Desktop/Masters/Project/Analysis/Time_series_analysis/Ouputs/Tibbles/prev_smooth_tibble.csv\", index_col='d_comb',parse_dates=['d_comb'])\n",
    "\n",
    "mob_long.index = pd.to_datetime(mob_long.index)\n",
    "mob_wide.index = pd.to_datetime(mob_wide.index)"
   ]
  },
  {
   "cell_type": "code",
   "execution_count": 14,
   "id": "b931bce9-8569-46b0-930a-2f360ed131f2",
   "metadata": {},
   "outputs": [
    {
     "name": "stdout",
     "output_type": "stream",
     "text": [
      "Column names in the long dataset are:\n",
      "Unnamed: 0\n",
      "region\n",
      "type_mobility\n",
      "mobility\n",
      "Column names in the wide dataset are:\n",
      "Unnamed: 0\n",
      "region\n",
      "retail_recreation\n",
      "grocery_pharmacy\n",
      "parks\n",
      "transit_stations\n",
      "workplaces\n",
      "residential\n",
      "retail_recreation_av\n",
      "grocery_pharmacy_av\n",
      "parks_av\n",
      "transit_stations_av\n",
      "workplaces_av\n",
      "residential_av\n",
      "Column names in the prevalence dataset are:\n",
      "Unnamed: 0\n",
      "x\n",
      "p\n",
      "lb_2.5\n",
      "lb_25\n",
      "ub_97.5\n",
      "ub_75\n",
      "region\n"
     ]
    }
   ],
   "source": [
    "print(\"Column names in the long dataset are:\")\n",
    "for col in mob_long.columns:\n",
    "    print(col)\n",
    "    \n",
    "print(\"Column names in the wide dataset are:\")\n",
    "for col in mob_wide.columns:\n",
    "    print(col)\n",
    "    \n",
    "print(\"Column names in the prevalence dataset are:\")\n",
    "for col in prev.columns:\n",
    "    print(col)"
   ]
  },
  {
   "cell_type": "code",
   "execution_count": 15,
   "id": "c3eb429f-1ff6-4bc6-8941-570aff1acfa6",
   "metadata": {},
   "outputs": [],
   "source": [
    "# Focussing on London during specified dates\n",
    "\n",
    "mob_london = mob_wide[mob_wide['region']==\"LONDON\"]\n",
    "mob_london = mob_london.loc[start_date:end_date]\n",
    "\n",
    "prev_london = prev[prev['region']==\"LONDON\"]\n",
    "prev_london = prev_london.loc[start_date:end_date]\n"
   ]
  },
  {
   "cell_type": "code",
   "execution_count": 16,
   "id": "16e14288-248c-491f-a3d8-76807b84d151",
   "metadata": {},
   "outputs": [
    {
     "data": {
      "text/html": [
       "<div>\n",
       "<style scoped>\n",
       "    .dataframe tbody tr th:only-of-type {\n",
       "        vertical-align: middle;\n",
       "    }\n",
       "\n",
       "    .dataframe tbody tr th {\n",
       "        vertical-align: top;\n",
       "    }\n",
       "\n",
       "    .dataframe thead th {\n",
       "        text-align: right;\n",
       "    }\n",
       "</style>\n",
       "<table border=\"1\" class=\"dataframe\">\n",
       "  <thead>\n",
       "    <tr style=\"text-align: right;\">\n",
       "      <th></th>\n",
       "      <th>Unnamed: 0_x</th>\n",
       "      <th>region_x</th>\n",
       "      <th>retail_recreation</th>\n",
       "      <th>grocery_pharmacy</th>\n",
       "      <th>parks</th>\n",
       "      <th>transit_stations</th>\n",
       "      <th>workplaces</th>\n",
       "      <th>residential</th>\n",
       "      <th>retail_recreation_av</th>\n",
       "      <th>grocery_pharmacy_av</th>\n",
       "      <th>...</th>\n",
       "      <th>workplaces_av</th>\n",
       "      <th>residential_av</th>\n",
       "      <th>Unnamed: 0_y</th>\n",
       "      <th>x</th>\n",
       "      <th>p</th>\n",
       "      <th>lb_2.5</th>\n",
       "      <th>lb_25</th>\n",
       "      <th>ub_97.5</th>\n",
       "      <th>ub_75</th>\n",
       "      <th>region_y</th>\n",
       "    </tr>\n",
       "  </thead>\n",
       "  <tbody>\n",
       "    <tr>\n",
       "      <th>2020-05-01</th>\n",
       "      <td>new.1882</td>\n",
       "      <td>LONDON</td>\n",
       "      <td>-80.0</td>\n",
       "      <td>-30.0</td>\n",
       "      <td>-32.0</td>\n",
       "      <td>-75.0</td>\n",
       "      <td>-72.0</td>\n",
       "      <td>34.0</td>\n",
       "      <td>-43.714286</td>\n",
       "      <td>-15.000000</td>\n",
       "      <td>...</td>\n",
       "      <td>-38.285714</td>\n",
       "      <td>14.142857</td>\n",
       "      <td>1309</td>\n",
       "      <td>18383.022901</td>\n",
       "      <td>0.013635</td>\n",
       "      <td>0.003665</td>\n",
       "      <td>0.008760</td>\n",
       "      <td>0.054005</td>\n",
       "      <td>0.022136</td>\n",
       "      <td>LONDON</td>\n",
       "    </tr>\n",
       "    <tr>\n",
       "      <th>2020-05-02</th>\n",
       "      <td>new.1883</td>\n",
       "      <td>LONDON</td>\n",
       "      <td>-81.0</td>\n",
       "      <td>-31.0</td>\n",
       "      <td>-17.0</td>\n",
       "      <td>-71.0</td>\n",
       "      <td>-54.0</td>\n",
       "      <td>20.0</td>\n",
       "      <td>-42.857143</td>\n",
       "      <td>-13.714286</td>\n",
       "      <td>...</td>\n",
       "      <td>-42.428571</td>\n",
       "      <td>14.857143</td>\n",
       "      <td>1310</td>\n",
       "      <td>18384.022901</td>\n",
       "      <td>0.012275</td>\n",
       "      <td>0.003657</td>\n",
       "      <td>0.008126</td>\n",
       "      <td>0.043013</td>\n",
       "      <td>0.018993</td>\n",
       "      <td>LONDON</td>\n",
       "    </tr>\n",
       "    <tr>\n",
       "      <th>2020-09-14</th>\n",
       "      <td>new.1898</td>\n",
       "      <td>LONDON</td>\n",
       "      <td>-32.0</td>\n",
       "      <td>-13.0</td>\n",
       "      <td>68.0</td>\n",
       "      <td>-47.0</td>\n",
       "      <td>-47.0</td>\n",
       "      <td>12.0</td>\n",
       "      <td>-34.714286</td>\n",
       "      <td>-11.857143</td>\n",
       "      <td>...</td>\n",
       "      <td>-48.142857</td>\n",
       "      <td>13.714286</td>\n",
       "      <td>1445</td>\n",
       "      <td>18519.022901</td>\n",
       "      <td>0.003722</td>\n",
       "      <td>0.002646</td>\n",
       "      <td>0.003308</td>\n",
       "      <td>0.005141</td>\n",
       "      <td>0.004175</td>\n",
       "      <td>LONDON</td>\n",
       "    </tr>\n",
       "    <tr>\n",
       "      <th>2020-09-15</th>\n",
       "      <td>new.1899</td>\n",
       "      <td>LONDON</td>\n",
       "      <td>-35.0</td>\n",
       "      <td>-14.0</td>\n",
       "      <td>49.0</td>\n",
       "      <td>-47.0</td>\n",
       "      <td>-48.0</td>\n",
       "      <td>13.0</td>\n",
       "      <td>-34.857143</td>\n",
       "      <td>-11.285714</td>\n",
       "      <td>...</td>\n",
       "      <td>-52.714286</td>\n",
       "      <td>14.714286</td>\n",
       "      <td>1446</td>\n",
       "      <td>18520.022901</td>\n",
       "      <td>0.003910</td>\n",
       "      <td>0.002827</td>\n",
       "      <td>0.003492</td>\n",
       "      <td>0.005339</td>\n",
       "      <td>0.004366</td>\n",
       "      <td>LONDON</td>\n",
       "    </tr>\n",
       "    <tr>\n",
       "      <th>2020-09-16</th>\n",
       "      <td>new.1900</td>\n",
       "      <td>LONDON</td>\n",
       "      <td>-37.0</td>\n",
       "      <td>-16.0</td>\n",
       "      <td>40.0</td>\n",
       "      <td>-48.0</td>\n",
       "      <td>-47.0</td>\n",
       "      <td>14.0</td>\n",
       "      <td>-36.000000</td>\n",
       "      <td>-13.000000</td>\n",
       "      <td>...</td>\n",
       "      <td>-45.285714</td>\n",
       "      <td>12.571429</td>\n",
       "      <td>1447</td>\n",
       "      <td>18521.022901</td>\n",
       "      <td>0.004095</td>\n",
       "      <td>0.003010</td>\n",
       "      <td>0.003679</td>\n",
       "      <td>0.005525</td>\n",
       "      <td>0.004550</td>\n",
       "      <td>LONDON</td>\n",
       "    </tr>\n",
       "  </tbody>\n",
       "</table>\n",
       "<p>5 rows × 22 columns</p>\n",
       "</div>"
      ],
      "text/plain": [
       "           Unnamed: 0_x region_x  retail_recreation  grocery_pharmacy  parks  \\\n",
       "2020-05-01     new.1882   LONDON              -80.0             -30.0  -32.0   \n",
       "2020-05-02     new.1883   LONDON              -81.0             -31.0  -17.0   \n",
       "2020-09-14     new.1898   LONDON              -32.0             -13.0   68.0   \n",
       "2020-09-15     new.1899   LONDON              -35.0             -14.0   49.0   \n",
       "2020-09-16     new.1900   LONDON              -37.0             -16.0   40.0   \n",
       "\n",
       "            transit_stations  workplaces  residential  retail_recreation_av  \\\n",
       "2020-05-01             -75.0       -72.0         34.0            -43.714286   \n",
       "2020-05-02             -71.0       -54.0         20.0            -42.857143   \n",
       "2020-09-14             -47.0       -47.0         12.0            -34.714286   \n",
       "2020-09-15             -47.0       -48.0         13.0            -34.857143   \n",
       "2020-09-16             -48.0       -47.0         14.0            -36.000000   \n",
       "\n",
       "            grocery_pharmacy_av  ...  workplaces_av  residential_av  \\\n",
       "2020-05-01           -15.000000  ...     -38.285714       14.142857   \n",
       "2020-05-02           -13.714286  ...     -42.428571       14.857143   \n",
       "2020-09-14           -11.857143  ...     -48.142857       13.714286   \n",
       "2020-09-15           -11.285714  ...     -52.714286       14.714286   \n",
       "2020-09-16           -13.000000  ...     -45.285714       12.571429   \n",
       "\n",
       "            Unnamed: 0_y             x         p    lb_2.5     lb_25  \\\n",
       "2020-05-01          1309  18383.022901  0.013635  0.003665  0.008760   \n",
       "2020-05-02          1310  18384.022901  0.012275  0.003657  0.008126   \n",
       "2020-09-14          1445  18519.022901  0.003722  0.002646  0.003308   \n",
       "2020-09-15          1446  18520.022901  0.003910  0.002827  0.003492   \n",
       "2020-09-16          1447  18521.022901  0.004095  0.003010  0.003679   \n",
       "\n",
       "             ub_97.5     ub_75  region_y  \n",
       "2020-05-01  0.054005  0.022136    LONDON  \n",
       "2020-05-02  0.043013  0.018993    LONDON  \n",
       "2020-09-14  0.005141  0.004175    LONDON  \n",
       "2020-09-15  0.005339  0.004366    LONDON  \n",
       "2020-09-16  0.005525  0.004550    LONDON  \n",
       "\n",
       "[5 rows x 22 columns]"
      ]
     },
     "execution_count": 16,
     "metadata": {},
     "output_type": "execute_result"
    }
   ],
   "source": [
    "# Merging into a combined London dataframe\n",
    "\n",
    "london = pd.merge(mob_london, prev_london, how='inner', left_index=True, right_index=True)\n",
    "london.head()"
   ]
  },
  {
   "cell_type": "code",
   "execution_count": 17,
   "id": "0bf21915-5174-49f0-a9b8-d4a7851050a6",
   "metadata": {},
   "outputs": [
    {
     "data": {
      "text/html": [
       "<div>\n",
       "<style scoped>\n",
       "    .dataframe tbody tr th:only-of-type {\n",
       "        vertical-align: middle;\n",
       "    }\n",
       "\n",
       "    .dataframe tbody tr th {\n",
       "        vertical-align: top;\n",
       "    }\n",
       "\n",
       "    .dataframe thead th {\n",
       "        text-align: right;\n",
       "    }\n",
       "</style>\n",
       "<table border=\"1\" class=\"dataframe\">\n",
       "  <thead>\n",
       "    <tr style=\"text-align: right;\">\n",
       "      <th></th>\n",
       "      <th>workplaces_av</th>\n",
       "      <th>p</th>\n",
       "    </tr>\n",
       "  </thead>\n",
       "  <tbody>\n",
       "    <tr>\n",
       "      <th>2020-05-01</th>\n",
       "      <td>-38.285714</td>\n",
       "      <td>-4.295143</td>\n",
       "    </tr>\n",
       "    <tr>\n",
       "      <th>2020-05-02</th>\n",
       "      <td>-42.428571</td>\n",
       "      <td>-4.400168</td>\n",
       "    </tr>\n",
       "    <tr>\n",
       "      <th>2020-09-14</th>\n",
       "      <td>-48.142857</td>\n",
       "      <td>-5.593425</td>\n",
       "    </tr>\n",
       "    <tr>\n",
       "      <th>2020-09-15</th>\n",
       "      <td>-52.714286</td>\n",
       "      <td>-5.544305</td>\n",
       "    </tr>\n",
       "    <tr>\n",
       "      <th>2020-09-16</th>\n",
       "      <td>-45.285714</td>\n",
       "      <td>-5.498017</td>\n",
       "    </tr>\n",
       "  </tbody>\n",
       "</table>\n",
       "</div>"
      ],
      "text/plain": [
       "            workplaces_av         p\n",
       "2020-05-01     -38.285714 -4.295143\n",
       "2020-05-02     -42.428571 -4.400168\n",
       "2020-09-14     -48.142857 -5.593425\n",
       "2020-09-15     -52.714286 -5.544305\n",
       "2020-09-16     -45.285714 -5.498017"
      ]
     },
     "execution_count": 17,
     "metadata": {},
     "output_type": "execute_result"
    }
   ],
   "source": [
    "# Removing the columns that aren't needed\n",
    "\n",
    "london = london[['workplaces_av','p']]\n",
    "\n",
    "# Logging prevalence\n",
    "\n",
    "london['p'] = np.log(london['p'] )\n",
    "london.head()"
   ]
  },
  {
   "cell_type": "code",
   "execution_count": 18,
   "id": "3bf1e5b2-8162-4313-bcec-73ab942f2ae2",
   "metadata": {},
   "outputs": [
    {
     "data": {
      "image/png": "[encoded data removed]",
      "text/plain": [
       "<Figure size 1080x360 with 2 Axes>"
      ]
     },
     "metadata": {
      "needs_background": "light"
     },
     "output_type": "display_data"
    }
   ],
   "source": [
    "from pandas.plotting import lag_plot\n",
    "   \n",
    "f2, (ax4, ax5) = plt.subplots(1, 2, figsize=(15, 5))\n",
    "f2.tight_layout()\n",
    "\n",
    "lag_plot(london['workplaces_av'], ax=ax4)\n",
    "ax4.set_title('workplaces rolling av');\n",
    "\n",
    "lag_plot(london['p'], ax=ax5)\n",
    "ax5.set_title('prevalence -logged');\n",
    "\n",
    "# Note that this plot has a lot clearer autocorrelation than without logging, as in script 1"
   ]
  },
  {
   "cell_type": "code",
   "execution_count": 19,
   "id": "2ba984ca-7c70-47c1-8226-0708b804834f",
   "metadata": {},
   "outputs": [],
   "source": [
    "raw_london = london.copy(deep=True)"
   ]
  },
  {
   "cell_type": "code",
   "execution_count": 20,
   "id": "bdb86335-6bef-4b5e-a9ed-9924b9dcfefb",
   "metadata": {},
   "outputs": [
    {
     "data": {
      "text/html": [
       "<div>\n",
       "<style scoped>\n",
       "    .dataframe tbody tr th:only-of-type {\n",
       "        vertical-align: middle;\n",
       "    }\n",
       "\n",
       "    .dataframe tbody tr th {\n",
       "        vertical-align: top;\n",
       "    }\n",
       "\n",
       "    .dataframe thead th {\n",
       "        text-align: right;\n",
       "    }\n",
       "</style>\n",
       "<table border=\"1\" class=\"dataframe\">\n",
       "  <thead>\n",
       "    <tr style=\"text-align: right;\">\n",
       "      <th></th>\n",
       "      <th>workplaces_av</th>\n",
       "      <th>p</th>\n",
       "    </tr>\n",
       "  </thead>\n",
       "  <tbody>\n",
       "    <tr>\n",
       "      <th>2020-05-02</th>\n",
       "      <td>-4.142857</td>\n",
       "      <td>-0.105025</td>\n",
       "    </tr>\n",
       "    <tr>\n",
       "      <th>2020-09-14</th>\n",
       "      <td>-5.714286</td>\n",
       "      <td>-1.193257</td>\n",
       "    </tr>\n",
       "    <tr>\n",
       "      <th>2020-09-15</th>\n",
       "      <td>-4.571429</td>\n",
       "      <td>0.049119</td>\n",
       "    </tr>\n",
       "    <tr>\n",
       "      <th>2020-09-16</th>\n",
       "      <td>7.428571</td>\n",
       "      <td>0.046288</td>\n",
       "    </tr>\n",
       "    <tr>\n",
       "      <th>2020-09-17</th>\n",
       "      <td>7.571429</td>\n",
       "      <td>0.043365</td>\n",
       "    </tr>\n",
       "  </tbody>\n",
       "</table>\n",
       "</div>"
      ],
      "text/plain": [
       "            workplaces_av         p\n",
       "2020-05-02      -4.142857 -0.105025\n",
       "2020-09-14      -5.714286 -1.193257\n",
       "2020-09-15      -4.571429  0.049119\n",
       "2020-09-16       7.428571  0.046288\n",
       "2020-09-17       7.571429  0.043365"
      ]
     },
     "execution_count": 20,
     "metadata": {},
     "output_type": "execute_result"
    }
   ],
   "source": [
    "# Differencing - using the rolling average as clear differencing needed, and as well as prevalence\n",
    "\n",
    "london['workplaces_av'] = london['workplaces_av'] - london['workplaces_av'].shift(1)\n",
    "london['p'] = london['p'] - london['p'].shift(1)\n",
    "london = london.dropna()\n",
    "london.head()"
   ]
  },
  {
   "cell_type": "code",
   "execution_count": 21,
   "id": "f0ffcbb2-bf41-4dd3-b46f-dd61e14b06d5",
   "metadata": {},
   "outputs": [
    {
     "data": {
      "image/png": "[encoded data removed]",
      "text/plain": [
       "<Figure size 1080x360 with 2 Axes>"
      ]
     },
     "metadata": {
      "needs_background": "light"
     },
     "output_type": "display_data"
    }
   ],
   "source": [
    "from pandas.plotting import lag_plot\n",
    "   \n",
    "f2, (ax4, ax5) = plt.subplots(1, 2, figsize=(15, 5))\n",
    "f2.tight_layout()\n",
    "\n",
    "lag_plot(london['workplaces_av'], ax=ax4)\n",
    "ax4.set_title('workplaces rolling av - d1');\n",
    "\n",
    "lag_plot(london['p'], ax=ax5)\n",
    "ax5.set_title('prevalence -d1');"
   ]
  },
  {
   "cell_type": "code",
   "execution_count": 22,
   "id": "232ee4b1-ecd7-46d1-ac42-a7910ce2ce81",
   "metadata": {},
   "outputs": [
    {
     "name": "stdout",
     "output_type": "stream",
     "text": [
      "ADF Statistic: -4.557239\n",
      "p-value: 0.000155\n",
      "Critical Values:\n",
      "\t1%: -3.526\n",
      "\t5%: -2.903\n",
      "\t10%: -2.589\n",
      "ADF Statistic: -6.436956\n",
      "p-value: 0.000000\n",
      "Critical Values:\n",
      "\t1%: -3.525\n",
      "\t5%: -2.903\n",
      "\t10%: -2.589\n"
     ]
    }
   ],
   "source": [
    "## ADF Null hypothesis: there is a unit root, meaning series is non-stationary\n",
    "from statsmodels.tsa.stattools import adfuller\n",
    "\n",
    "X1 = np.array(london['workplaces_av'])\n",
    "X1 = X1[~np.isnan(X1)]\n",
    "\n",
    "result = adfuller(X1)\n",
    "print('ADF Statistic: %f' % result[0])\n",
    "print('p-value: %f' % result[1])\n",
    "print('Critical Values:')\n",
    "for key, value in result[4].items():\n",
    "    print('\\t%s: %.3f' % (key, value))\n",
    "    \n",
    "    \n",
    "X2 = np.array(london['p'])\n",
    "X2 = X2[~np.isnan(X2)]\n",
    "\n",
    "result = adfuller(X2)\n",
    "print('ADF Statistic: %f' % result[0])\n",
    "print('p-value: %f' % result[1])\n",
    "print('Critical Values:')\n",
    "for key, value in result[4].items():\n",
    "    print('\\t%s: %.3f' % (key, value))\n",
    "    \n"
   ]
  },
  {
   "cell_type": "code",
   "execution_count": 23,
   "id": "1ef7c86e-dd7f-4724-8df7-ba61024f4156",
   "metadata": {},
   "outputs": [
    {
     "name": "stdout",
     "output_type": "stream",
     "text": [
      "KPSS Statistic: 0.21569391228543755\n",
      "p-value: 0.1\n",
      "num lags: 12\n",
      "Critial Values:\n",
      "   10% : 0.347\n",
      "   5% : 0.463\n",
      "   2.5% : 0.574\n",
      "   1% : 0.739\n",
      "Result: The series is stationary\n",
      "KPSS Statistic: 0.32631024742237447\n",
      "p-value: 0.1\n",
      "num lags: 12\n",
      "Critial Values:\n",
      "   10% : 0.347\n",
      "   5% : 0.463\n",
      "   2.5% : 0.574\n",
      "   1% : 0.739\n",
      "Result: The series is stationary\n"
     ]
    },
    {
     "name": "stderr",
     "output_type": "stream",
     "text": [
      "/Users/elliebloom/opt/anaconda3/lib/python3.8/site-packages/statsmodels/tsa/stattools.py:1875: FutureWarning: The behavior of using nlags=None will change in release 0.13.Currently nlags=None is the same as nlags=\"legacy\", and so a sample-size lag length is used. After the next release, the default will change to be the same as nlags=\"auto\" which uses an automatic lag length selection method. To silence this warning, either use \"auto\" or \"legacy\"\n",
      "  warnings.warn(msg, FutureWarning)\n",
      "/Users/elliebloom/opt/anaconda3/lib/python3.8/site-packages/statsmodels/tsa/stattools.py:1910: InterpolationWarning: The test statistic is outside of the range of p-values available in the\n",
      "look-up table. The actual p-value is greater than the p-value returned.\n",
      "\n",
      "  warnings.warn(\n",
      "/Users/elliebloom/opt/anaconda3/lib/python3.8/site-packages/statsmodels/tsa/stattools.py:1910: InterpolationWarning: The test statistic is outside of the range of p-values available in the\n",
      "look-up table. The actual p-value is greater than the p-value returned.\n",
      "\n",
      "  warnings.warn(\n"
     ]
    }
   ],
   "source": [
    "## KPSS Null hypothesis: there is a no unit root, meaning series is stationary\n",
    "\n",
    "from statsmodels.tsa.stattools import kpss\n",
    "def kpss_test(series, **kw):    \n",
    "    statistic, p_value, n_lags, critical_values = kpss(series, **kw)\n",
    "    # Format Output\n",
    "    print(f'KPSS Statistic: {statistic}')\n",
    "    print(f'p-value: {p_value}')\n",
    "    print(f'num lags: {n_lags}')\n",
    "    print('Critial Values:')\n",
    "    for key, value in critical_values.items():\n",
    "        print(f'   {key} : {value}')\n",
    "    print(f'Result: The series is {\"not \" if p_value < 0.05 else \"\"}stationary')\n",
    "\n",
    "kpss_test(X1)\n",
    "kpss_test(X2)\n",
    "\n",
    "# now stationary"
   ]
  },
  {
   "cell_type": "markdown",
   "id": "eb3519bf-756e-40b9-97cd-db8f09b0b015",
   "metadata": {},
   "source": [
    "Overall result to far: the data is stationary"
   ]
  },
  {
   "cell_type": "code",
   "execution_count": 24,
   "id": "dfcf003b-c4bd-429d-985c-f10e7ee832e8",
   "metadata": {},
   "outputs": [],
   "source": [
    "# split data into train and test. We will need this later for VAR analysis\n",
    "\n",
    "msk = np.random.rand(len(london)) < 0.8\n",
    "train = london[msk]\n",
    "test = london[~msk]"
   ]
  },
  {
   "cell_type": "code",
   "execution_count": 25,
   "id": "33d0b9fb-f4f6-4ea6-bad8-78cc877d2126",
   "metadata": {},
   "outputs": [
    {
     "data": {
      "image/png": "[encoded data removed]",
      "text/plain": [
       "<Figure size 1080x360 with 2 Axes>"
      ]
     },
     "metadata": {
      "needs_background": "light"
     },
     "output_type": "display_data"
    }
   ],
   "source": [
    "from pandas.plotting import lag_plot\n",
    "   \n",
    "f2, (ax4, ax5) = plt.subplots(1, 2, figsize=(15, 5))\n",
    "f2.tight_layout()\n",
    "\n",
    "lag_plot(london['workplaces_av'], ax=ax4)\n",
    "ax4.set_title('workplaces_av - d1');\n",
    "\n",
    "lag_plot(london['p'], ax=ax5)\n",
    "ax5.set_title('p logged - d1');\n",
    "\n",
    "\n",
    "plt.show()"
   ]
  },
  {
   "cell_type": "markdown",
   "id": "57f317cb-2fcd-4177-856f-bf74f5eaf806",
   "metadata": {},
   "source": [
    "Result: lag plot is confirmatory with ADF test and KPSS. Uses moving average and 3 differences\n",
    "\n",
    "Next: setting up VAR model"
   ]
  },
  {
   "cell_type": "markdown",
   "id": "9d9fb408-2290-4ae3-b147-cc1b53a81bbc",
   "metadata": {},
   "source": [
    "**Step 2**: Let the maximum order of integration for the group of time-series be d. So, if there are two time-series and one is found to be I(1) and the other is I(2), then d = 2. If one is I(0) and the other is I(1), then m = 1, etc.\n",
    "\n",
    "**Result**: Saw above that in this case d=1\n",
    "\n",
    "**Step 3**: Set up a VAR model in the levels of the data, regardless of the orders of integration of the various time-series. Most importantly, **you must not difference the data, no matter what you found at Step 1**.\n",
    "\n",
    "**Step 4**: Determine the appropriate maximum lag length for the variables in the VAR, say p, using the usual methods. Specifically, base the choice of p on the usual information criteria, such as AIC, SIC.\n",
    "\n",
    "\n",
    "**Note**: try running like this first, then incorporate info on the lag later\n"
   ]
  },
  {
   "cell_type": "code",
   "execution_count": 26,
   "id": "d20c2057-da6b-4d28-ab82-03b9bd88b527",
   "metadata": {},
   "outputs": [],
   "source": [
    "# obtain the lag P for VAR\n",
    "\n",
    "raw_london = raw_london.dropna()\n",
    "model = VAR(np.array(raw_london)) #recall that rawData is w/o difference operation\n"
   ]
  },
  {
   "cell_type": "code",
   "execution_count": 27,
   "id": "920adb38-4799-42cf-bf49-abaee287b704",
   "metadata": {},
   "outputs": [
    {
     "name": "stdout",
     "output_type": "stream",
     "text": [
      "Lag Order = 1\n",
      "AIC :  0.8518469261605244\n",
      "BIC :  1.0358521898673398\n",
      "FPE :  2.3441644144906704\n",
      "HQIC:  0.92538432989635 \n",
      "\n",
      "Lag Order = 2\n",
      "AIC :  0.7996203742801906\n",
      "BIC :  1.1086187894183652\n",
      "FPE :  2.225577634335835\n",
      "HQIC:  0.9230000483989799 \n",
      "\n",
      "Lag Order = 3\n",
      "AIC :  0.5938416862274284\n",
      "BIC :  1.0297458930498389\n",
      "FPE :  1.812988118795948\n",
      "HQIC:  0.7677292336012619 \n",
      "\n",
      "Lag Order = 4\n",
      "AIC :  0.6192529177553667\n",
      "BIC :  1.1840237388604493\n",
      "FPE :  1.8622297510441645\n",
      "HQIC:  0.8443238441882025 \n",
      "\n",
      "Lag Order = 5\n",
      "AIC :  0.4480149228106066\n",
      "BIC :  1.1436629036210681\n",
      "FPE :  1.5727682746403004\n",
      "HQIC:  0.7249544439741287 \n",
      "\n",
      "Lag Order = 6\n",
      "AIC :  0.299475234056242\n",
      "BIC :  1.1280622312826392\n",
      "FPE :  1.3604675731569404\n",
      "HQIC:  0.6289780250957497 \n",
      "\n",
      "Lag Order = 7\n",
      "AIC :  0.37350562705052315\n",
      "BIC :  1.3371464450716772\n",
      "FPE :  1.472554889755961\n",
      "HQIC:  0.7562755066628981 \n",
      "\n",
      "Lag Order = 8\n",
      "AIC :  0.33935432276423494\n",
      "BIC :  1.4402183974933191\n",
      "FPE :  1.4334071486042288\n",
      "HQIC:  0.7761038624176195 \n",
      "\n",
      "Lag Order = 9\n",
      "AIC :  0.377820844215242\n",
      "BIC :  1.6181339735783604\n",
      "FPE :  1.5043327230297445\n",
      "HQIC:  0.8692708918818404 \n",
      "\n",
      "Lag Order = 10\n",
      "AIC :  0.48784931781766816\n",
      "BIC :  1.8698954374358856\n",
      "FPE :  1.7014976103359338\n",
      "HQIC:  1.0347284241006551 \n",
      "\n",
      "Lag Order = 11\n",
      "AIC :  0.637196347069592\n",
      "BIC :  2.1633193490880096\n",
      "FPE :  2.009989425691916\n",
      "HQIC:  1.240240079891542 \n",
      "\n",
      "Lag Order = 12\n",
      "AIC :  0.789553495055596\n",
      "BIC :  2.462159087283009\n",
      "FPE :  2.3939683560560323\n",
      "HQIC:  1.4495036271027075 \n",
      "\n"
     ]
    }
   ],
   "source": [
    "for i in [1,2,3,4,5,6,7,8,9,10,11,12]:\n",
    "    result = model.fit(i)\n",
    "    try:\n",
    "        print('Lag Order =', i)\n",
    "        print('AIC : ', result.aic)\n",
    "        print('BIC : ', result.bic)\n",
    "        print('FPE : ', result.fpe)\n",
    "        print('HQIC: ', result.hqic, '\\n')\n",
    "    except:\n",
    "        continue"
   ]
  },
  {
   "cell_type": "markdown",
   "id": "f25fca86-49a1-4c13-a3e8-8bd1aeadb860",
   "metadata": {},
   "source": [
    "**Result**: The lag order p=6 on the basis of AIC   (note same as when it wasn't logged in script 1)\n",
    "**Step 5**: Make sure that the VAR is well-specified. For example, ensure that there is no serial correlation in the residuals. If need be, increase p until any autocorrelation issues are resolved."
   ]
  },
  {
   "cell_type": "code",
   "execution_count": 28,
   "id": "bda8c9e3-5e73-4a23-858e-cecbab78efb5",
   "metadata": {},
   "outputs": [],
   "source": [
    "model = VAR(np.asarray(train))\n",
    "model_fitted = model.fit(6)"
   ]
  },
  {
   "cell_type": "code",
   "execution_count": 29,
   "id": "c0a507c5-2d61-4ea3-9726-4e70b474f33a",
   "metadata": {},
   "outputs": [
    {
     "name": "stdout",
     "output_type": "stream",
     "text": [
      "workplaces_av : 2.08\n",
      "p : 1.99\n"
     ]
    }
   ],
   "source": [
    "#Check for Serial Correlation of Residuals (Errors) using Durbin Watson Statistic\n",
    "#The value of this statistic can vary between 0 and 4. \n",
    "#The closer it is to the value 2, then there is no significant serial correlation. \n",
    "#The closer to 0, there is a positive serial correlation, \n",
    "#and the closer it is to 4 implies negative serial correlation.\n",
    "\n",
    "\n",
    "from statsmodels.stats.stattools import durbin_watson\n",
    "out = durbin_watson(model_fitted.resid)\n",
    "\n",
    "for col, val in zip(london.columns, out):\n",
    "    print(col, ':', round(val, 2))"
   ]
  },
  {
   "cell_type": "markdown",
   "id": "5fa550a6-fc0e-4ed7-896c-7a5c19055f20",
   "metadata": {},
   "source": [
    "**Result**: There is no significant correlation between in the residuals\n",
    "\n",
    "**Step 6**: If two or more of the time-series have the same order of integration, at Step 1, then test to see if they are cointegrated, preferably using Johansen’s methodology (based on your VAR) for a reliable result.  \n",
    "\n",
    "**Johansen's test**:   \n",
    "H0: There are no cointegrating equations "
   ]
  },
  {
   "cell_type": "code",
   "execution_count": 30,
   "id": "9260c166-c794-4333-a5d2-96300a8194d5",
   "metadata": {},
   "outputs": [
    {
     "name": "stdout",
     "output_type": "stream",
     "text": [
      "   max_eig_stat  trace_stat\n",
      "0     55.823230   78.068488\n",
      "1     22.245259   22.245259 \n",
      "\n",
      "Critical values(90%, 95%, 99%) of max_eig_stat\n",
      " [[12.2971 14.2639 18.52  ]\n",
      " [ 2.7055  3.8415  6.6349]] \n",
      "\n",
      "Critical values(90%, 95%, 99%) of trace_stat\n",
      " [[13.4294 15.4943 19.9349]\n",
      " [ 2.7055  3.8415  6.6349]] \n",
      "\n"
     ]
    }
   ],
   "source": [
    "from statsmodels.tsa.vector_ar.vecm import coint_johansen\n",
    "from statsmodels.tsa.vector_ar.vecm import JohansenTestResult\n",
    "\n",
    "# Function from here : http://web.pdx.edu/~crkl/ceR/Python/example14_3.py\n",
    "\n",
    "\"\"\"\n",
    "    Johansen cointegration test of the cointegration rank of a VECM\n",
    "\n",
    "    Parameters\n",
    "    ----------\n",
    "    endog : array_like (nobs_tot x neqs)\n",
    "        Data to test\n",
    "    det_order : int\n",
    "        * -1 - no deterministic terms - model1\n",
    "        * 0 - constant term - model3\n",
    "        * 1 - linear trend\n",
    "    k_ar_diff : int, nonnegative\n",
    "        Number of lagged differences in the model.\n",
    "\"\"\"\n",
    "\n",
    "\n",
    "\n",
    "def joh_output(res):\n",
    "    output = pd.DataFrame([res.lr2,res.lr1],\n",
    "                          index=['max_eig_stat',\"trace_stat\"])\n",
    "    print(output.T,'\\n')\n",
    "    print(\"Critical values(90%, 95%, 99%) of max_eig_stat\\n\",res.cvm,'\\n')\n",
    "    print(\"Critical values(90%, 95%, 99%) of trace_stat\\n\",res.cvt,'\\n')\n",
    "\n",
    "result = coint_johansen(np.asarray(london),0,1)\n",
    "joh_output(result)"
   ]
  },
  {
   "cell_type": "markdown",
   "id": "9134484d-651b-4bdd-82a1-66a53674c885",
   "metadata": {},
   "source": [
    "**Result**: Greater than all critical values, thus p<0.05 - Thus rejecting the null hypothesis. Thus they are cointegrated.  "
   ]
  },
  {
   "cell_type": "code",
   "execution_count": 31,
   "id": "135e08cf-7525-4fc6-b8c0-076fd5d270d2",
   "metadata": {},
   "outputs": [],
   "source": [
    "# Trying the other test done in the tutorial\n",
    "# This uses the augmented Engle-Granger two-step cointegration test. Constant or trend is included in 1st stage regression, i.e. in cointegrating equation.\n",
    "\n",
    "import statsmodels.tsa.stattools as ts \n",
    "\n",
    "result=ts.coint(london['workplaces_av'], london['p'], return_results=True)\n",
    "# Note the results includes: t stat, p value, [1% critical value, 5% critical value, 10% critical value]"
   ]
  },
  {
   "cell_type": "markdown",
   "id": "136f48d3-47c3-4fa5-92ee-fb83ba46c8ca",
   "metadata": {},
   "source": [
    "**Result** : The p-valus < 0.05. Thus rejecting the null hypothesis. Thus they are cointegrated using this alternative test too.\n",
    "\n",
    "\n",
    "**Step 7**: No matter what you conclude about cointegration at Step 6, this is not going to affect what follows. It just provides a possible cross-check on the validity of your results at the very end of the analysis.  \n",
    "**Step 8**: Now take the preferred VAR model and add in m additional lags of each of the variables into each of the equations.  "
   ]
  },
  {
   "cell_type": "code",
   "execution_count": 32,
   "id": "0c49e2ed-16b2-4cff-8381-72794bb3ece4",
   "metadata": {},
   "outputs": [
    {
     "name": "stdout",
     "output_type": "stream",
     "text": [
      "6\n"
     ]
    }
   ],
   "source": [
    "model = VAR(np.asarray(train))\n",
    "model_fitted = model.fit(6)\n",
    "#get the lag order\n",
    "lag_order = model_fitted.k_ar\n",
    "print(lag_order)"
   ]
  },
  {
   "cell_type": "markdown",
   "id": "5ca7214a-d600-402e-98f1-1491350cfa99",
   "metadata": {},
   "source": [
    "**Step 9 and Step 10**: Test for Granger non-causality. It’s essential that you don’t include the coefficients for the ‘extra’ m lags when you perform the tests. They are there just to fix up the asymptotics."
   ]
  },
  {
   "cell_type": "markdown",
   "id": "ad608f63-2c22-4f73-aa30-8d9364508b4e",
   "metadata": {},
   "source": [
    "^ I'm not sure I've done step 8 right, and not sure what it means by the 'extra' lags above?"
   ]
  },
  {
   "cell_type": "code",
   "execution_count": 33,
   "id": "acb73c7b-3974-4b50-a864-e047b8ce3457",
   "metadata": {},
   "outputs": [],
   "source": [
    "from statsmodels.tsa.stattools import grangercausalitytests\n",
    "maxlag=lag_order #becuase we got this value before. We are not suppose to add 1 to it\n",
    "test = 'ssr_chi2test'\n",
    "def grangers_causation_matrix(data, variables, test='ssr_chi2test', verbose=False):    \n",
    "    \"\"\"Check Granger Causality of all possible combinations of the Time series.\n",
    "    The rows are the response variable, columns are predictors. The values in the table \n",
    "    are the P-Values. P-Values lesser than the significance level (0.05), implies \n",
    "    the Null Hypothesis that the coefficients of the corresponding past values is \n",
    "    zero, that is, the X does not cause Y can be rejected.\n",
    "\n",
    "    data      : pandas dataframe containing the time series variables\n",
    "    variables : list containing names of the time series variables.\n",
    "    \"\"\"\n",
    "    df = pd.DataFrame(np.zeros((len(variables), len(variables))), columns=variables, index=variables)\n",
    "    for c in df.columns:\n",
    "        for r in df.index:\n",
    "            test_result = grangercausalitytests(data[[r, c]], maxlag=maxlag, verbose=False)\n",
    "            p_values = [round(test_result[i+1][0][test][1],4) for i in range(maxlag)]\n",
    "            if verbose: print(f'Y = {r}, X = {c}, P Values = {p_values}')\n",
    "            min_p_value = np.min(p_values)\n",
    "            df.loc[r, c] = min_p_value\n",
    "    df.columns = [var + '_x' for var in variables]\n",
    "    df.index = [var + '_y' for var in variables]\n",
    "    return df\n",
    "\n",
    "o = grangers_causation_matrix(train, variables = train.columns)  "
   ]
  },
  {
   "cell_type": "code",
   "execution_count": 34,
   "id": "c99400c4-0ce1-4b0c-b577-428f52f84094",
   "metadata": {},
   "outputs": [
    {
     "data": {
      "text/html": [
       "<div>\n",
       "<style scoped>\n",
       "    .dataframe tbody tr th:only-of-type {\n",
       "        vertical-align: middle;\n",
       "    }\n",
       "\n",
       "    .dataframe tbody tr th {\n",
       "        vertical-align: top;\n",
       "    }\n",
       "\n",
       "    .dataframe thead th {\n",
       "        text-align: right;\n",
       "    }\n",
       "</style>\n",
       "<table border=\"1\" class=\"dataframe\">\n",
       "  <thead>\n",
       "    <tr style=\"text-align: right;\">\n",
       "      <th></th>\n",
       "      <th>workplaces_av_x</th>\n",
       "      <th>p_x</th>\n",
       "    </tr>\n",
       "  </thead>\n",
       "  <tbody>\n",
       "    <tr>\n",
       "      <th>workplaces_av_y</th>\n",
       "      <td>1.0000</td>\n",
       "      <td>0.1825</td>\n",
       "    </tr>\n",
       "    <tr>\n",
       "      <th>p_y</th>\n",
       "      <td>0.0123</td>\n",
       "      <td>1.0000</td>\n",
       "    </tr>\n",
       "  </tbody>\n",
       "</table>\n",
       "</div>"
      ],
      "text/plain": [
       "                 workplaces_av_x     p_x\n",
       "workplaces_av_y           1.0000  0.1825\n",
       "p_y                       0.0123  1.0000"
      ]
     },
     "execution_count": 34,
     "metadata": {},
     "output_type": "execute_result"
    }
   ],
   "source": [
    "o"
   ]
  },
  {
   "cell_type": "code",
   "execution_count": 35,
   "id": "68a91879-1f68-4dfa-9453-77a34aafb148",
   "metadata": {},
   "outputs": [
    {
     "name": "stdout",
     "output_type": "stream",
     "text": [
      "p value for prevalence causing mobility is: 0.1825 \n",
      "\n",
      "p value for mobility causing prevalence is: 0.0123 \n",
      "\n"
     ]
    }
   ],
   "source": [
    "print(\"p value for prevalence causing mobility is:\",o.iloc[0,1],'\\n')\n",
    "print(\"p value for mobility causing prevalence is:\",o.iloc[1,0],'\\n')"
   ]
  },
  {
   "cell_type": "markdown",
   "id": "67f6d06d-fed8-450d-9f33-e84cc2ce09fc",
   "metadata": {},
   "source": [
    "**Result**: If a given p-value is < significance level (0.05), then, the corresponding X series (column) causes the Y (row). // Now that I've logged this, it looks like only mobility causes prevalence, and not vice versa... \n",
    "**Step 11**: Finally, look back at what you concluded in Step 6 about cointegration.  \n",
    "\n",
    "If two or more time-series are cointegrated, then there must be Granger causality between them - either one-way or in both directions. However, the converse is not true.\n",
    "\n",
    "So, if your data are cointegrated but you don't find any evidence of causality, you have a conflict in your results. (This might occur if your sample size is too small to satisfy the asymptotics that the cointegration and causality tests rely on.) If you have cointegration and find one-way causality, everything is fine. (You may still be wrong about there being no causality in the other direction.) If your data are not cointegrated, then you have no cross-check on your causality results.\n",
    "\n",
    "**-> Conflict here - they are both cointegrated but only one Granger causes the other??**\n"
   ]
  },
  {
   "cell_type": "markdown",
   "id": "0df97c8c-b878-4a8c-86a8-ce06f94c337c",
   "metadata": {},
   "source": [
    "**Now diverging from the tutorial, exploring forecasting**"
   ]
  },
  {
   "cell_type": "code",
   "execution_count": 36,
   "id": "bdb886e5-6db7-4997-976f-fb4e6d0dd971",
   "metadata": {},
   "outputs": [
    {
     "data": {
      "text/plain": [
       "  Summary of Regression Results   \n",
       "==================================\n",
       "Model:                         VAR\n",
       "Method:                        OLS\n",
       "Date:           Tue, 21, Jun, 2022\n",
       "Time:                     16:19:12\n",
       "--------------------------------------------------------------------\n",
       "No. of Equations:         2.00000    BIC:                    1.50351\n",
       "Nobs:                     50.0000    HQIC:                  0.887876\n",
       "Log likelihood:          -128.625    FPE:                    1.70522\n",
       "AIC:                     0.509259    Det(Omega_mle):         1.07409\n",
       "--------------------------------------------------------------------\n",
       "Results for equation y1\n",
       "========================================================================\n",
       "           coefficient       std. error           t-stat            prob\n",
       "------------------------------------------------------------------------\n",
       "const        -0.116586         0.419858           -0.278           0.781\n",
       "L1.y1         0.291719         0.201658            1.447           0.148\n",
       "L1.y2         0.412250         1.301537            0.317           0.751\n",
       "L2.y1         0.406124         0.204706            1.984           0.047\n",
       "L2.y2         1.752553         1.269256            1.381           0.167\n",
       "L3.y1        -0.188766         0.228170           -0.827           0.408\n",
       "L3.y2         1.313778         1.330111            0.988           0.323\n",
       "L4.y1        -0.367081         0.216257           -1.697           0.090\n",
       "L4.y2        -1.097269         1.350176           -0.813           0.416\n",
       "L5.y1         0.118268         0.193921            0.610           0.542\n",
       "L5.y2        -0.900262         1.037448           -0.868           0.386\n",
       "L6.y1        -0.078155         0.173587           -0.450           0.653\n",
       "L6.y2         0.194589         1.005380            0.194           0.847\n",
       "========================================================================\n",
       "\n",
       "Results for equation y2\n",
       "========================================================================\n",
       "           coefficient       std. error           t-stat            prob\n",
       "------------------------------------------------------------------------\n",
       "const         0.077606         0.067069            1.157           0.247\n",
       "L1.y1        -0.009839         0.032213           -0.305           0.760\n",
       "L1.y2        -0.128479         0.207909           -0.618           0.537\n",
       "L2.y1        -0.091050         0.032700           -2.784           0.005\n",
       "L2.y2        -0.351709         0.202753           -1.735           0.083\n",
       "L3.y1         0.009047         0.036448            0.248           0.804\n",
       "L3.y2        -0.399971         0.212474           -1.882           0.060\n",
       "L4.y1         0.038620         0.034545            1.118           0.264\n",
       "L4.y2         0.186474         0.215679            0.865           0.387\n",
       "L5.y1        -0.005678         0.030977           -0.183           0.855\n",
       "L5.y2         0.035342         0.165723            0.213           0.831\n",
       "L6.y1         0.000516         0.027729            0.019           0.985\n",
       "L6.y2        -0.068094         0.160601           -0.424           0.672\n",
       "========================================================================\n",
       "\n",
       "Correlation matrix of residuals\n",
       "            y1        y2\n",
       "y1    1.000000 -0.590629\n",
       "y2   -0.590629  1.000000\n",
       "\n"
      ]
     },
     "execution_count": 36,
     "metadata": {},
     "output_type": "execute_result"
    }
   ],
   "source": [
    "# Exploring forecasting\n",
    "\n",
    "# Firstly summary of the model\n",
    "model\n",
    "model_fitted = model.fit(6)\n",
    "model_fitted.summary()\n",
    "# y1 is presumably -> mobility, y2 is presumably -> prevalence"
   ]
  },
  {
   "cell_type": "code",
   "execution_count": null,
   "id": "d40e1aed-fd56-4db1-bd7c-f24af0bbda18",
   "metadata": {},
   "outputs": [],
   "source": [
    "# Despite confirming that mobility Granger causes prevalence, none of the coefficients are significant for mobility (y1) for the equation for y2 (prevalence). However, nor are any of the prevalence ones either??"
   ]
  },
  {
   "cell_type": "code",
   "execution_count": 37,
   "id": "05bdb43c-92b9-481d-9e35-43f14a9a5900",
   "metadata": {},
   "outputs": [
    {
     "data": {
      "text/plain": [
       "array([[-1.85310161,  0.20475801],\n",
       "       [-1.00537235,  0.11540489],\n",
       "       [ 0.74262471, -0.08271322],\n",
       "       [ 0.09831095,  0.06826255],\n",
       "       [ 0.44801255, -0.03991885],\n",
       "       [-0.05482407,  0.0547042 ],\n",
       "       [-0.14688317,  0.02609583],\n",
       "       [-0.05975023,  0.08247899],\n",
       "       [-0.27633207,  0.0671445 ],\n",
       "       [ 0.06739881,  0.03589473],\n",
       "       [-0.0302699 ,  0.04473339],\n",
       "       [ 0.0291766 ,  0.03511471]])"
      ]
     },
     "execution_count": 37,
     "metadata": {},
     "output_type": "execute_result"
    }
   ],
   "source": [
    "# https://www.analyticsvidhya.com/blog/2021/08/vector-autoregressive-model-in-python/\n",
    "\n",
    "lagged_Values = train.values[-8:]\n",
    "pred = model_fitted.forecast(y=lagged_Values, steps=12) \n",
    "pred"
   ]
  }
 ],
 "metadata": {
  "kernelspec": {
   "display_name": "Python 3 (ipykernel)",
   "language": "python",
   "name": "python3"
  },
  "language_info": {
   "codemirror_mode": {
    "name": "ipython",
    "version": 3
   },
   "file_extension": ".py",
   "mimetype": "text/x-python",
   "name": "python",
   "nbconvert_exporter": "python",
   "pygments_lexer": "ipython3",
   "version": "3.8.2"
  }
 },
 "nbformat": 4,
 "nbformat_minor": 5
}
