{
 "cells": [
  {
   "cell_type": "markdown",
   "id": "dc65ac0a-7dd3-43f8-9003-de5a633456d9",
   "metadata": {},
   "source": [
    "# Exploring time series in python\n",
    "\n",
    "Date started: 21st June 2022"
   ]
  },
  {
   "cell_type": "code",
   "execution_count": 1,
   "id": "7256c70f-3132-4e27-84ee-d55b8c40f968",
   "metadata": {},
   "outputs": [
    {
     "name": "stderr",
     "output_type": "stream",
     "text": [
      "/Users/elliebloom/opt/anaconda3/lib/python3.8/site-packages/statsmodels/tsa/base/tsa_model.py:7: FutureWarning: pandas.Int64Index is deprecated and will be removed from pandas in a future version. Use pandas.Index with the appropriate dtype instead.\n",
      "  from pandas import (to_datetime, Int64Index, DatetimeIndex, Period,\n",
      "/Users/elliebloom/opt/anaconda3/lib/python3.8/site-packages/statsmodels/tsa/base/tsa_model.py:7: FutureWarning: pandas.Float64Index is deprecated and will be removed from pandas in a future version. Use pandas.Index with the appropriate dtype instead.\n",
      "  from pandas import (to_datetime, Int64Index, DatetimeIndex, Period,\n"
     ]
    }
   ],
   "source": [
    "# Packages\n",
    "\n",
    "import numpy as np\n",
    "import matplotlib.pyplot as plt\n",
    "import pandas as pd\n",
    "import datetime as dt\n",
    "import statsmodels.tsa.stattools as smt\n",
    "from statsmodels.tsa.api import VAR"
   ]
  },
  {
   "cell_type": "code",
   "execution_count": 29,
   "id": "005444be-2127-4451-a393-70ee13275ae6",
   "metadata": {},
   "outputs": [
    {
     "name": "stdout",
     "output_type": "stream",
     "text": [
      "Collecting johansen\n",
      "  Downloading johansen-0.0.4.tar.gz (5.1 kB)\n",
      "Requirement already satisfied: scipy>=0.18.0 in /Users/elliebloom/opt/anaconda3/lib/python3.8/site-packages (from johansen) (1.7.3)\n",
      "Requirement already satisfied: statsmodels>=0.6.1 in /Users/elliebloom/opt/anaconda3/lib/python3.8/site-packages (from johansen) (0.12.2)\n",
      "Requirement already satisfied: numpy>=1.11.1 in /Users/elliebloom/opt/anaconda3/lib/python3.8/site-packages (from johansen) (1.20.3)\n",
      "Requirement already satisfied: pandas>=0.18.1 in /Users/elliebloom/opt/anaconda3/lib/python3.8/site-packages (from johansen) (1.4.1)\n",
      "Requirement already satisfied: python-dateutil>=2.8.1 in /Users/elliebloom/opt/anaconda3/lib/python3.8/site-packages (from pandas>=0.18.1->johansen) (2.8.2)\n",
      "Requirement already satisfied: pytz>=2020.1 in /Users/elliebloom/opt/anaconda3/lib/python3.8/site-packages (from pandas>=0.18.1->johansen) (2021.3)\n",
      "Requirement already satisfied: six>=1.5 in /Users/elliebloom/opt/anaconda3/lib/python3.8/site-packages (from python-dateutil>=2.8.1->pandas>=0.18.1->johansen) (1.16.0)\n",
      "Requirement already satisfied: patsy>=0.5 in /Users/elliebloom/opt/anaconda3/lib/python3.8/site-packages (from statsmodels>=0.6.1->johansen) (0.5.2)\n",
      "Building wheels for collected packages: johansen\n",
      "  Building wheel for johansen (setup.py): started\n",
      "  Building wheel for johansen (setup.py): finished with status 'done'\n",
      "  Created wheel for johansen: filename=johansen-0.0.4-py3-none-any.whl size=5627 sha256=c635a23132fe3d5bd7c7dfc180875d0db6e4b97c9012843c89b5a87708c6a332\n",
      "  Stored in directory: /Users/elliebloom/Library/Caches/pip/wheels/95/32/27/67d55f7c04b98ec0adecd8b52f6fdbcc2ace5452995389bdef\n",
      "Successfully built johansen\n",
      "Installing collected packages: johansen\n",
      "Successfully installed johansen-0.0.4\n"
     ]
    }
   ],
   "source": [
    "# Use this to install any packages required in general:\n",
    "\n",
    "# import subprocess\n",
    "# import sys\n",
    "\n",
    "# def install(package):\n",
    "#    subprocess.check_call([sys.executable, \"-m\", \"pip\", \"install\", package])\n",
    "    \n",
    "# install(\"johansen\")"
   ]
  },
  {
   "cell_type": "code",
   "execution_count": 3,
   "id": "3b500981-841c-45b8-926f-1bf517a89ae8",
   "metadata": {},
   "outputs": [
    {
     "name": "stdout",
     "output_type": "stream",
     "text": [
      "<class 'datetime.datetime'>\n",
      "Start date is: 2020-05-01 00:00:00, i.e. start of REACT data\n",
      "End date is: 2020-10-05 00:00:00, i.e. one month before the end of lockdown 1\n"
     ]
    }
   ],
   "source": [
    "# Useful dates\n",
    "\n",
    "\n",
    "bank_holidays = [\"2020-01-01\",\"2020-04-10\",\"2020-04-13\",\"2020-05-08\",\n",
    "                          \"2020-05-25\",\"2020-08-31\",\"2020-12-25\",\"2020-12-28\",\n",
    "                          \"2021-01-01\",\"2021-04-02\",\"2021-04-05\",\"2021-05-03\",\n",
    "                          \"2021-05-31\",\"2021-08-30\",\"2021-12-27\",\"2021-12-28\",\n",
    "                          \"2022-01-03\",\"2022-04-15\",\"2022-04-18\",\"2022-05-02\"]\n",
    "\n",
    "\n",
    "type(bank_holidays[0]) # They are currently strings\n",
    "bank_holidays = [dt.datetime.strptime(item, \"%Y-%m-%d\") for item in bank_holidays]\n",
    "type(bank_holidays[0]) # Now datetime objects\n",
    "\n",
    "lockdown_1_start = dt.datetime.strptime(\"2020-03-26\",\"%Y-%m-%d\")\n",
    "lockdown_1_end = dt.datetime.strptime(\"2020-06-15\",\"%Y-%m-%d\")\n",
    "\n",
    "lockdown_2_start = dt.datetime.strptime(\"2020-11-05\",\"%Y-%m-%d\")\n",
    "lockdown_2_end = dt.datetime.strptime(\"2020-12-02\",\"%Y-%m-%d\")\n",
    "\n",
    "lockdown_3_start = dt.datetime.strptime(\"2021-01-06\",\"%Y-%m-%d\")\n",
    "lockdown_3_end = dt.datetime.strptime(\"2021-04-21\",\"%Y-%m-%d\")\n",
    "\n",
    "\n",
    "REACT_start = dt.datetime.strptime(\"2020-05-01\",\"%Y-%m-%d\")\n",
    "\n",
    "from dateutil.relativedelta import relativedelta\n",
    "start_date = REACT_start\n",
    "print(type(start_date))\n",
    "end_date = lockdown_2_start-relativedelta(months=1)\n",
    "\n",
    "print(f'Start date is: {start_date}, i.e. start of REACT data')\n",
    "print(f'End date is: {end_date}, i.e. one month before the end of lockdown 1')"
   ]
  },
  {
   "cell_type": "markdown",
   "id": "9455d4a1-c8cf-4cef-ac34-4e1de75b2062",
   "metadata": {},
   "source": [
    "## Time Series\n",
    "\n",
    "Exploring Granger Causality using tutorial - https://rishi-a.github.io/2020/05/25/granger-causality.html"
   ]
  },
  {
   "cell_type": "code",
   "execution_count": 4,
   "id": "837c303a-8121-4390-b22d-04363ca73811",
   "metadata": {},
   "outputs": [],
   "source": [
    "# Loading data\n",
    "\n",
    "mob_long = pd.read_csv(\"/Users/elliebloom/Desktop/Masters/Project/Analysis/Mapping/Outputs/google_regional_long.csv\", index_col='date',parse_dates=['date'])\n",
    "mob_wide = pd.read_csv(\"/Users/elliebloom/Desktop/Masters/Project/Analysis/Mapping/Outputs/google_regional_wide.csv\", index_col='date',parse_dates=['date'])\n",
    "prev = pd.read_csv(\"/Users/elliebloom/Desktop/Masters/Project/Analysis/Time_series_analysis/Ouputs/Tibbles/prev_smooth_tibble.csv\", index_col='d_comb',parse_dates=['d_comb'])\n",
    "\n",
    "mob_long.index = pd.to_datetime(mob_long.index)\n",
    "mob_wide.index = pd.to_datetime(mob_wide.index)"
   ]
  },
  {
   "cell_type": "code",
   "execution_count": 5,
   "id": "b931bce9-8569-46b0-930a-2f360ed131f2",
   "metadata": {},
   "outputs": [
    {
     "name": "stdout",
     "output_type": "stream",
     "text": [
      "Column names in the long dataset are:\n",
      "Unnamed: 0\n",
      "region\n",
      "type_mobility\n",
      "mobility\n",
      "Column names in the wide dataset are:\n",
      "Unnamed: 0\n",
      "region\n",
      "retail_recreation\n",
      "grocery_pharmacy\n",
      "parks\n",
      "transit_stations\n",
      "workplaces\n",
      "residential\n",
      "retail_recreation_av\n",
      "grocery_pharmacy_av\n",
      "parks_av\n",
      "transit_stations_av\n",
      "workplaces_av\n",
      "residential_av\n",
      "Column names in the prevalence dataset are:\n",
      "Unnamed: 0\n",
      "x\n",
      "p\n",
      "lb_2.5\n",
      "lb_25\n",
      "ub_97.5\n",
      "ub_75\n",
      "region\n"
     ]
    }
   ],
   "source": [
    "print(\"Column names in the long dataset are:\")\n",
    "for col in mob_long.columns:\n",
    "    print(col)\n",
    "    \n",
    "print(\"Column names in the wide dataset are:\")\n",
    "for col in mob_wide.columns:\n",
    "    print(col)\n",
    "    \n",
    "print(\"Column names in the prevalence dataset are:\")\n",
    "for col in prev.columns:\n",
    "    print(col)"
   ]
  },
  {
   "cell_type": "code",
   "execution_count": 6,
   "id": "c3eb429f-1ff6-4bc6-8941-570aff1acfa6",
   "metadata": {},
   "outputs": [],
   "source": [
    "# Focussing on London during specified dates\n",
    "\n",
    "mob_london = mob_wide[mob_wide['region']==\"LONDON\"]\n",
    "mob_london = mob_london.loc[start_date:end_date]\n",
    "\n",
    "prev_london = prev[prev['region']==\"LONDON\"]\n",
    "prev_london = prev_london.loc[start_date:end_date]\n"
   ]
  },
  {
   "cell_type": "code",
   "execution_count": 7,
   "id": "16e14288-248c-491f-a3d8-76807b84d151",
   "metadata": {},
   "outputs": [
    {
     "data": {
      "text/html": [
       "<div>\n",
       "<style scoped>\n",
       "    .dataframe tbody tr th:only-of-type {\n",
       "        vertical-align: middle;\n",
       "    }\n",
       "\n",
       "    .dataframe tbody tr th {\n",
       "        vertical-align: top;\n",
       "    }\n",
       "\n",
       "    .dataframe thead th {\n",
       "        text-align: right;\n",
       "    }\n",
       "</style>\n",
       "<table border=\"1\" class=\"dataframe\">\n",
       "  <thead>\n",
       "    <tr style=\"text-align: right;\">\n",
       "      <th></th>\n",
       "      <th>Unnamed: 0_x</th>\n",
       "      <th>region_x</th>\n",
       "      <th>retail_recreation</th>\n",
       "      <th>grocery_pharmacy</th>\n",
       "      <th>parks</th>\n",
       "      <th>transit_stations</th>\n",
       "      <th>workplaces</th>\n",
       "      <th>residential</th>\n",
       "      <th>retail_recreation_av</th>\n",
       "      <th>grocery_pharmacy_av</th>\n",
       "      <th>...</th>\n",
       "      <th>workplaces_av</th>\n",
       "      <th>residential_av</th>\n",
       "      <th>Unnamed: 0_y</th>\n",
       "      <th>x</th>\n",
       "      <th>p</th>\n",
       "      <th>lb_2.5</th>\n",
       "      <th>lb_25</th>\n",
       "      <th>ub_97.5</th>\n",
       "      <th>ub_75</th>\n",
       "      <th>region_y</th>\n",
       "    </tr>\n",
       "  </thead>\n",
       "  <tbody>\n",
       "    <tr>\n",
       "      <th>2020-05-01</th>\n",
       "      <td>new.1882</td>\n",
       "      <td>LONDON</td>\n",
       "      <td>-80.0</td>\n",
       "      <td>-30.0</td>\n",
       "      <td>-32.0</td>\n",
       "      <td>-75.0</td>\n",
       "      <td>-72.0</td>\n",
       "      <td>34.0</td>\n",
       "      <td>-43.714286</td>\n",
       "      <td>-15.000000</td>\n",
       "      <td>...</td>\n",
       "      <td>-38.285714</td>\n",
       "      <td>14.142857</td>\n",
       "      <td>1309</td>\n",
       "      <td>18383.022901</td>\n",
       "      <td>0.013635</td>\n",
       "      <td>0.003665</td>\n",
       "      <td>0.008760</td>\n",
       "      <td>0.054005</td>\n",
       "      <td>0.022136</td>\n",
       "      <td>LONDON</td>\n",
       "    </tr>\n",
       "    <tr>\n",
       "      <th>2020-05-02</th>\n",
       "      <td>new.1883</td>\n",
       "      <td>LONDON</td>\n",
       "      <td>-81.0</td>\n",
       "      <td>-31.0</td>\n",
       "      <td>-17.0</td>\n",
       "      <td>-71.0</td>\n",
       "      <td>-54.0</td>\n",
       "      <td>20.0</td>\n",
       "      <td>-42.857143</td>\n",
       "      <td>-13.714286</td>\n",
       "      <td>...</td>\n",
       "      <td>-42.428571</td>\n",
       "      <td>14.857143</td>\n",
       "      <td>1310</td>\n",
       "      <td>18384.022901</td>\n",
       "      <td>0.012275</td>\n",
       "      <td>0.003657</td>\n",
       "      <td>0.008126</td>\n",
       "      <td>0.043013</td>\n",
       "      <td>0.018993</td>\n",
       "      <td>LONDON</td>\n",
       "    </tr>\n",
       "    <tr>\n",
       "      <th>2020-09-14</th>\n",
       "      <td>new.1898</td>\n",
       "      <td>LONDON</td>\n",
       "      <td>-32.0</td>\n",
       "      <td>-13.0</td>\n",
       "      <td>68.0</td>\n",
       "      <td>-47.0</td>\n",
       "      <td>-47.0</td>\n",
       "      <td>12.0</td>\n",
       "      <td>-34.714286</td>\n",
       "      <td>-11.857143</td>\n",
       "      <td>...</td>\n",
       "      <td>-48.142857</td>\n",
       "      <td>13.714286</td>\n",
       "      <td>1445</td>\n",
       "      <td>18519.022901</td>\n",
       "      <td>0.003722</td>\n",
       "      <td>0.002646</td>\n",
       "      <td>0.003308</td>\n",
       "      <td>0.005141</td>\n",
       "      <td>0.004175</td>\n",
       "      <td>LONDON</td>\n",
       "    </tr>\n",
       "    <tr>\n",
       "      <th>2020-09-15</th>\n",
       "      <td>new.1899</td>\n",
       "      <td>LONDON</td>\n",
       "      <td>-35.0</td>\n",
       "      <td>-14.0</td>\n",
       "      <td>49.0</td>\n",
       "      <td>-47.0</td>\n",
       "      <td>-48.0</td>\n",
       "      <td>13.0</td>\n",
       "      <td>-34.857143</td>\n",
       "      <td>-11.285714</td>\n",
       "      <td>...</td>\n",
       "      <td>-52.714286</td>\n",
       "      <td>14.714286</td>\n",
       "      <td>1446</td>\n",
       "      <td>18520.022901</td>\n",
       "      <td>0.003910</td>\n",
       "      <td>0.002827</td>\n",
       "      <td>0.003492</td>\n",
       "      <td>0.005339</td>\n",
       "      <td>0.004366</td>\n",
       "      <td>LONDON</td>\n",
       "    </tr>\n",
       "    <tr>\n",
       "      <th>2020-09-16</th>\n",
       "      <td>new.1900</td>\n",
       "      <td>LONDON</td>\n",
       "      <td>-37.0</td>\n",
       "      <td>-16.0</td>\n",
       "      <td>40.0</td>\n",
       "      <td>-48.0</td>\n",
       "      <td>-47.0</td>\n",
       "      <td>14.0</td>\n",
       "      <td>-36.000000</td>\n",
       "      <td>-13.000000</td>\n",
       "      <td>...</td>\n",
       "      <td>-45.285714</td>\n",
       "      <td>12.571429</td>\n",
       "      <td>1447</td>\n",
       "      <td>18521.022901</td>\n",
       "      <td>0.004095</td>\n",
       "      <td>0.003010</td>\n",
       "      <td>0.003679</td>\n",
       "      <td>0.005525</td>\n",
       "      <td>0.004550</td>\n",
       "      <td>LONDON</td>\n",
       "    </tr>\n",
       "  </tbody>\n",
       "</table>\n",
       "<p>5 rows × 22 columns</p>\n",
       "</div>"
      ],
      "text/plain": [
       "           Unnamed: 0_x region_x  retail_recreation  grocery_pharmacy  parks  \\\n",
       "2020-05-01     new.1882   LONDON              -80.0             -30.0  -32.0   \n",
       "2020-05-02     new.1883   LONDON              -81.0             -31.0  -17.0   \n",
       "2020-09-14     new.1898   LONDON              -32.0             -13.0   68.0   \n",
       "2020-09-15     new.1899   LONDON              -35.0             -14.0   49.0   \n",
       "2020-09-16     new.1900   LONDON              -37.0             -16.0   40.0   \n",
       "\n",
       "            transit_stations  workplaces  residential  retail_recreation_av  \\\n",
       "2020-05-01             -75.0       -72.0         34.0            -43.714286   \n",
       "2020-05-02             -71.0       -54.0         20.0            -42.857143   \n",
       "2020-09-14             -47.0       -47.0         12.0            -34.714286   \n",
       "2020-09-15             -47.0       -48.0         13.0            -34.857143   \n",
       "2020-09-16             -48.0       -47.0         14.0            -36.000000   \n",
       "\n",
       "            grocery_pharmacy_av  ...  workplaces_av  residential_av  \\\n",
       "2020-05-01           -15.000000  ...     -38.285714       14.142857   \n",
       "2020-05-02           -13.714286  ...     -42.428571       14.857143   \n",
       "2020-09-14           -11.857143  ...     -48.142857       13.714286   \n",
       "2020-09-15           -11.285714  ...     -52.714286       14.714286   \n",
       "2020-09-16           -13.000000  ...     -45.285714       12.571429   \n",
       "\n",
       "            Unnamed: 0_y             x         p    lb_2.5     lb_25  \\\n",
       "2020-05-01          1309  18383.022901  0.013635  0.003665  0.008760   \n",
       "2020-05-02          1310  18384.022901  0.012275  0.003657  0.008126   \n",
       "2020-09-14          1445  18519.022901  0.003722  0.002646  0.003308   \n",
       "2020-09-15          1446  18520.022901  0.003910  0.002827  0.003492   \n",
       "2020-09-16          1447  18521.022901  0.004095  0.003010  0.003679   \n",
       "\n",
       "             ub_97.5     ub_75  region_y  \n",
       "2020-05-01  0.054005  0.022136    LONDON  \n",
       "2020-05-02  0.043013  0.018993    LONDON  \n",
       "2020-09-14  0.005141  0.004175    LONDON  \n",
       "2020-09-15  0.005339  0.004366    LONDON  \n",
       "2020-09-16  0.005525  0.004550    LONDON  \n",
       "\n",
       "[5 rows x 22 columns]"
      ]
     },
     "execution_count": 7,
     "metadata": {},
     "output_type": "execute_result"
    }
   ],
   "source": [
    "# Merging into a combined London dataframe\n",
    "\n",
    "london = pd.merge(mob_london, prev_london, how='inner', left_index=True, right_index=True)\n",
    "london.head()"
   ]
  },
  {
   "cell_type": "code",
   "execution_count": 8,
   "id": "0bf21915-5174-49f0-a9b8-d4a7851050a6",
   "metadata": {},
   "outputs": [
    {
     "data": {
      "text/html": [
       "<div>\n",
       "<style scoped>\n",
       "    .dataframe tbody tr th:only-of-type {\n",
       "        vertical-align: middle;\n",
       "    }\n",
       "\n",
       "    .dataframe tbody tr th {\n",
       "        vertical-align: top;\n",
       "    }\n",
       "\n",
       "    .dataframe thead th {\n",
       "        text-align: right;\n",
       "    }\n",
       "</style>\n",
       "<table border=\"1\" class=\"dataframe\">\n",
       "  <thead>\n",
       "    <tr style=\"text-align: right;\">\n",
       "      <th></th>\n",
       "      <th>workplaces_av</th>\n",
       "      <th>p</th>\n",
       "    </tr>\n",
       "  </thead>\n",
       "  <tbody>\n",
       "    <tr>\n",
       "      <th>2020-05-01</th>\n",
       "      <td>-38.285714</td>\n",
       "      <td>0.013635</td>\n",
       "    </tr>\n",
       "    <tr>\n",
       "      <th>2020-05-02</th>\n",
       "      <td>-42.428571</td>\n",
       "      <td>0.012275</td>\n",
       "    </tr>\n",
       "    <tr>\n",
       "      <th>2020-09-14</th>\n",
       "      <td>-48.142857</td>\n",
       "      <td>0.003722</td>\n",
       "    </tr>\n",
       "    <tr>\n",
       "      <th>2020-09-15</th>\n",
       "      <td>-52.714286</td>\n",
       "      <td>0.003910</td>\n",
       "    </tr>\n",
       "    <tr>\n",
       "      <th>2020-09-16</th>\n",
       "      <td>-45.285714</td>\n",
       "      <td>0.004095</td>\n",
       "    </tr>\n",
       "    <tr>\n",
       "      <th>...</th>\n",
       "      <td>...</td>\n",
       "      <td>...</td>\n",
       "    </tr>\n",
       "    <tr>\n",
       "      <th>2020-09-10</th>\n",
       "      <td>-41.142857</td>\n",
       "      <td>0.002988</td>\n",
       "    </tr>\n",
       "    <tr>\n",
       "      <th>2020-09-11</th>\n",
       "      <td>-39.857143</td>\n",
       "      <td>0.003169</td>\n",
       "    </tr>\n",
       "    <tr>\n",
       "      <th>2020-09-12</th>\n",
       "      <td>-37.142857</td>\n",
       "      <td>0.003352</td>\n",
       "    </tr>\n",
       "    <tr>\n",
       "      <th>2020-09-13</th>\n",
       "      <td>-38.571429</td>\n",
       "      <td>0.003537</td>\n",
       "    </tr>\n",
       "    <tr>\n",
       "      <th>2020-10-05</th>\n",
       "      <td>-40.000000</td>\n",
       "      <td>0.005510</td>\n",
       "    </tr>\n",
       "  </tbody>\n",
       "</table>\n",
       "<p>77 rows × 2 columns</p>\n",
       "</div>"
      ],
      "text/plain": [
       "            workplaces_av         p\n",
       "2020-05-01     -38.285714  0.013635\n",
       "2020-05-02     -42.428571  0.012275\n",
       "2020-09-14     -48.142857  0.003722\n",
       "2020-09-15     -52.714286  0.003910\n",
       "2020-09-16     -45.285714  0.004095\n",
       "...                   ...       ...\n",
       "2020-09-10     -41.142857  0.002988\n",
       "2020-09-11     -39.857143  0.003169\n",
       "2020-09-12     -37.142857  0.003352\n",
       "2020-09-13     -38.571429  0.003537\n",
       "2020-10-05     -40.000000  0.005510\n",
       "\n",
       "[77 rows x 2 columns]"
      ]
     },
     "execution_count": 8,
     "metadata": {},
     "output_type": "execute_result"
    }
   ],
   "source": [
    "# Removing the columns that aren't needed\n",
    "\n",
    "london = london[['workplaces_av','p']]\n",
    "london"
   ]
  },
  {
   "cell_type": "code",
   "execution_count": 9,
   "id": "3bf1e5b2-8162-4313-bcec-73ab942f2ae2",
   "metadata": {},
   "outputs": [
    {
     "data": {
      "image/png": "[encoded data removed]",
      "text/plain": [
       "<Figure size 1080x360 with 2 Axes>"
      ]
     },
     "metadata": {
      "needs_background": "light"
     },
     "output_type": "display_data"
    }
   ],
   "source": [
    "from pandas.plotting import lag_plot\n",
    "   \n",
    "f2, (ax4, ax5) = plt.subplots(1, 2, figsize=(15, 5))\n",
    "f2.tight_layout()\n",
    "\n",
    "lag_plot(london['workplaces_av'], ax=ax4)\n",
    "ax4.set_title('workplaces rolling av');\n",
    "\n",
    "lag_plot(london['p'], ax=ax5)\n",
    "ax5.set_title('prevalence');"
   ]
  },
  {
   "cell_type": "code",
   "execution_count": 10,
   "id": "2ba984ca-7c70-47c1-8226-0708b804834f",
   "metadata": {},
   "outputs": [],
   "source": [
    "raw_london = london.copy(deep=True)"
   ]
  },
  {
   "cell_type": "code",
   "execution_count": 11,
   "id": "bdb86335-6bef-4b5e-a9ed-9924b9dcfefb",
   "metadata": {},
   "outputs": [
    {
     "data": {
      "text/html": [
       "<div>\n",
       "<style scoped>\n",
       "    .dataframe tbody tr th:only-of-type {\n",
       "        vertical-align: middle;\n",
       "    }\n",
       "\n",
       "    .dataframe tbody tr th {\n",
       "        vertical-align: top;\n",
       "    }\n",
       "\n",
       "    .dataframe thead th {\n",
       "        text-align: right;\n",
       "    }\n",
       "</style>\n",
       "<table border=\"1\" class=\"dataframe\">\n",
       "  <thead>\n",
       "    <tr style=\"text-align: right;\">\n",
       "      <th></th>\n",
       "      <th>workplaces_av</th>\n",
       "      <th>p</th>\n",
       "    </tr>\n",
       "  </thead>\n",
       "  <tbody>\n",
       "    <tr>\n",
       "      <th>2020-05-02</th>\n",
       "      <td>-4.142857</td>\n",
       "      <td>-0.001359</td>\n",
       "    </tr>\n",
       "    <tr>\n",
       "      <th>2020-09-14</th>\n",
       "      <td>-5.714286</td>\n",
       "      <td>-0.008553</td>\n",
       "    </tr>\n",
       "    <tr>\n",
       "      <th>2020-09-15</th>\n",
       "      <td>-4.571429</td>\n",
       "      <td>0.000187</td>\n",
       "    </tr>\n",
       "    <tr>\n",
       "      <th>2020-09-16</th>\n",
       "      <td>7.428571</td>\n",
       "      <td>0.000185</td>\n",
       "    </tr>\n",
       "    <tr>\n",
       "      <th>2020-09-17</th>\n",
       "      <td>7.571429</td>\n",
       "      <td>0.000181</td>\n",
       "    </tr>\n",
       "  </tbody>\n",
       "</table>\n",
       "</div>"
      ],
      "text/plain": [
       "            workplaces_av         p\n",
       "2020-05-02      -4.142857 -0.001359\n",
       "2020-09-14      -5.714286 -0.008553\n",
       "2020-09-15      -4.571429  0.000187\n",
       "2020-09-16       7.428571  0.000185\n",
       "2020-09-17       7.571429  0.000181"
      ]
     },
     "execution_count": 11,
     "metadata": {},
     "output_type": "execute_result"
    }
   ],
   "source": [
    "# Differencing - using the rolling average as clear differencing needed, and as well as prevalence\n",
    "\n",
    "london['workplaces_av'] = london['workplaces_av'] - london['workplaces_av'].shift(1)\n",
    "london['p'] = london['p'] - london['p'].shift(1)\n",
    "london = london.dropna()\n",
    "london.head()"
   ]
  },
  {
   "cell_type": "code",
   "execution_count": 12,
   "id": "f0ffcbb2-bf41-4dd3-b46f-dd61e14b06d5",
   "metadata": {},
   "outputs": [
    {
     "data": {
      "image/png": "[encoded data removed]",
      "text/plain": [
       "<Figure size 1080x360 with 2 Axes>"
      ]
     },
     "metadata": {
      "needs_background": "light"
     },
     "output_type": "display_data"
    }
   ],
   "source": [
    "from pandas.plotting import lag_plot\n",
    "   \n",
    "f2, (ax4, ax5) = plt.subplots(1, 2, figsize=(15, 5))\n",
    "f2.tight_layout()\n",
    "\n",
    "lag_plot(london['workplaces_av'], ax=ax4)\n",
    "ax4.set_title('workplaces rolling av - d1');\n",
    "\n",
    "lag_plot(london['p'], ax=ax5)\n",
    "ax5.set_title('prevalence -d1');"
   ]
  },
  {
   "cell_type": "code",
   "execution_count": 13,
   "id": "232ee4b1-ecd7-46d1-ac42-a7910ce2ce81",
   "metadata": {},
   "outputs": [
    {
     "name": "stdout",
     "output_type": "stream",
     "text": [
      "ADF Statistic: -4.557239\n",
      "p-value: 0.000155\n",
      "Critical Values:\n",
      "\t1%: -3.526\n",
      "\t5%: -2.903\n",
      "\t10%: -2.589\n",
      "ADF Statistic: -6.327225\n",
      "p-value: 0.000000\n",
      "Critical Values:\n",
      "\t1%: -3.525\n",
      "\t5%: -2.903\n",
      "\t10%: -2.589\n"
     ]
    }
   ],
   "source": [
    "## ADF Null hypothesis: there is a unit root, meaning series is non-stationary\n",
    "from statsmodels.tsa.stattools import adfuller\n",
    "\n",
    "X1 = np.array(london['workplaces_av'])\n",
    "X1 = X1[~np.isnan(X1)]\n",
    "\n",
    "result = adfuller(X1)\n",
    "print('ADF Statistic: %f' % result[0])\n",
    "print('p-value: %f' % result[1])\n",
    "print('Critical Values:')\n",
    "for key, value in result[4].items():\n",
    "    print('\\t%s: %.3f' % (key, value))\n",
    "    \n",
    "    \n",
    "X2 = np.array(london['p'])\n",
    "X2 = X2[~np.isnan(X2)]\n",
    "\n",
    "result = adfuller(X2)\n",
    "print('ADF Statistic: %f' % result[0])\n",
    "print('p-value: %f' % result[1])\n",
    "print('Critical Values:')\n",
    "for key, value in result[4].items():\n",
    "    print('\\t%s: %.3f' % (key, value))\n",
    "    \n"
   ]
  },
  {
   "cell_type": "code",
   "execution_count": 14,
   "id": "1ef7c86e-dd7f-4724-8df7-ba61024f4156",
   "metadata": {},
   "outputs": [
    {
     "name": "stdout",
     "output_type": "stream",
     "text": [
      "KPSS Statistic: 0.21569391228543755\n",
      "p-value: 0.1\n",
      "num lags: 12\n",
      "Critial Values:\n",
      "   10% : 0.347\n",
      "   5% : 0.463\n",
      "   2.5% : 0.574\n",
      "   1% : 0.739\n",
      "Result: The series is stationary\n",
      "KPSS Statistic: 0.3869269441108714\n",
      "p-value: 0.08279011029703819\n",
      "num lags: 12\n",
      "Critial Values:\n",
      "   10% : 0.347\n",
      "   5% : 0.463\n",
      "   2.5% : 0.574\n",
      "   1% : 0.739\n",
      "Result: The series is stationary\n"
     ]
    },
    {
     "name": "stderr",
     "output_type": "stream",
     "text": [
      "/Users/elliebloom/opt/anaconda3/lib/python3.8/site-packages/statsmodels/tsa/stattools.py:1875: FutureWarning: The behavior of using nlags=None will change in release 0.13.Currently nlags=None is the same as nlags=\"legacy\", and so a sample-size lag length is used. After the next release, the default will change to be the same as nlags=\"auto\" which uses an automatic lag length selection method. To silence this warning, either use \"auto\" or \"legacy\"\n",
      "  warnings.warn(msg, FutureWarning)\n",
      "/Users/elliebloom/opt/anaconda3/lib/python3.8/site-packages/statsmodels/tsa/stattools.py:1910: InterpolationWarning: The test statistic is outside of the range of p-values available in the\n",
      "look-up table. The actual p-value is greater than the p-value returned.\n",
      "\n",
      "  warnings.warn(\n"
     ]
    }
   ],
   "source": [
    "## KPSS Null hypothesis: there is a no unit root, meaning series is stationary\n",
    "\n",
    "from statsmodels.tsa.stattools import kpss\n",
    "def kpss_test(series, **kw):    \n",
    "    statistic, p_value, n_lags, critical_values = kpss(series, **kw)\n",
    "    # Format Output\n",
    "    print(f'KPSS Statistic: {statistic}')\n",
    "    print(f'p-value: {p_value}')\n",
    "    print(f'num lags: {n_lags}')\n",
    "    print('Critial Values:')\n",
    "    for key, value in critical_values.items():\n",
    "        print(f'   {key} : {value}')\n",
    "    print(f'Result: The series is {\"not \" if p_value < 0.05 else \"\"}stationary')\n",
    "\n",
    "kpss_test(X1)\n",
    "kpss_test(X2)\n",
    "\n",
    "# now stationary"
   ]
  },
  {
   "cell_type": "markdown",
   "id": "eb3519bf-756e-40b9-97cd-db8f09b0b015",
   "metadata": {},
   "source": [
    "Overall result to far: the data is stationary"
   ]
  },
  {
   "cell_type": "code",
   "execution_count": 23,
   "id": "dfcf003b-c4bd-429d-985c-f10e7ee832e8",
   "metadata": {},
   "outputs": [],
   "source": [
    "# split data into train and test. We will need this later for VAR analysis\n",
    "\n",
    "msk = np.random.rand(len(london)) < 0.8\n",
    "train = london[msk]\n",
    "test = london[~msk]"
   ]
  },
  {
   "cell_type": "code",
   "execution_count": 33,
   "id": "33d0b9fb-f4f6-4ea6-bad8-78cc877d2126",
   "metadata": {},
   "outputs": [
    {
     "data": {
      "image/png": "[encoded data removed]",
      "text/plain": [
       "<Figure size 1080x360 with 2 Axes>"
      ]
     },
     "metadata": {
      "needs_background": "light"
     },
     "output_type": "display_data"
    }
   ],
   "source": [
    "from pandas.plotting import lag_plot\n",
    "   \n",
    "f2, (ax4, ax5) = plt.subplots(1, 2, figsize=(15, 5))\n",
    "f2.tight_layout()\n",
    "\n",
    "lag_plot(london['workplaces_av'], ax=ax4)\n",
    "ax4.set_title('workplaces_av - d1');\n",
    "\n",
    "lag_plot(london['p'], ax=ax5)\n",
    "ax5.set_title('p - d1');\n",
    "\n",
    "\n",
    "plt.show()"
   ]
  },
  {
   "cell_type": "markdown",
   "id": "57f317cb-2fcd-4177-856f-bf74f5eaf806",
   "metadata": {},
   "source": [
    "Result: lag plot is confirmatory with ADF test and KPSS. Uses moving average and 3 differences\n",
    "\n",
    "Next: setting up VAR model"
   ]
  },
  {
   "cell_type": "markdown",
   "id": "9d9fb408-2290-4ae3-b147-cc1b53a81bbc",
   "metadata": {},
   "source": [
    "**Step 2**: Let the maximum order of integration for the group of time-series be d. So, if there are two time-series and one is found to be I(1) and the other is I(2), then d = 2. If one is I(0) and the other is I(1), then m = 1, etc.\n",
    "\n",
    "**Result**: Saw above that in this case d=1\n",
    "\n",
    "**Step 3**: Set up a VAR model in the levels of the data, regardless of the orders of integration of the various time-series. Most importantly, **you must not difference the data, no matter what you found at Step 1**.\n",
    "\n",
    "**Step 4**: Determine the appropriate maximum lag length for the variables in the VAR, say p, using the usual methods. Specifically, base the choice of p on the usual information criteria, such as AIC, SIC.\n",
    "\n",
    "\n",
    "**Note**: try running like this first, then incorporate info on the lag later\n"
   ]
  },
  {
   "cell_type": "code",
   "execution_count": 21,
   "id": "d20c2057-da6b-4d28-ab82-03b9bd88b527",
   "metadata": {},
   "outputs": [],
   "source": [
    "# obtain the lag P for VAR\n",
    "\n",
    "raw_london = raw_london.dropna()\n",
    "model = VAR(np.array(raw_london)) #recall that rawData is w/o difference operation\n"
   ]
  },
  {
   "cell_type": "code",
   "execution_count": 22,
   "id": "920adb38-4799-42cf-bf49-abaee287b704",
   "metadata": {},
   "outputs": [
    {
     "name": "stdout",
     "output_type": "stream",
     "text": [
      "Lag Order = 1\n",
      "AIC :  -10.615063505949294\n",
      "BIC :  -10.431058242242477\n",
      "FPE :  2.4545514721413373e-05\n",
      "HQIC:  -10.541526102213467 \n",
      "\n",
      "Lag Order = 2\n",
      "AIC :  -10.69293117929124\n",
      "BIC :  -10.383932764153066\n",
      "FPE :  2.2713864233966e-05\n",
      "HQIC:  -10.56955150517245 \n",
      "\n",
      "Lag Order = 3\n",
      "AIC :  -11.033831615767166\n",
      "BIC :  -10.597927408944756\n",
      "FPE :  1.6164437842872218e-05\n",
      "HQIC:  -10.859944068393334 \n",
      "\n",
      "Lag Order = 4\n",
      "AIC :  -11.058069401441575\n",
      "BIC :  -10.493298580336493\n",
      "FPE :  1.5799255195560866e-05\n",
      "HQIC:  -10.83299847500874 \n",
      "\n",
      "Lag Order = 5\n",
      "AIC :  -11.164404410864917\n",
      "BIC :  -10.468756430054455\n",
      "FPE :  1.4238200423374222e-05\n",
      "HQIC:  -10.887464889701395 \n",
      "\n",
      "Lag Order = 6\n",
      "AIC :  -11.250856113355198\n",
      "BIC :  -10.4222691161288\n",
      "FPE :  1.3105181089159394e-05\n",
      "HQIC:  -10.92135332231569 \n",
      "\n",
      "Lag Order = 7\n",
      "AIC :  -11.16998969794507\n",
      "BIC :  -10.206348879923917\n",
      "FPE :  1.4282201981258667e-05\n",
      "HQIC:  -10.787219818332696 \n",
      "\n",
      "Lag Order = 8\n",
      "AIC :  -11.16878452003962\n",
      "BIC :  -10.067920445310538\n",
      "FPE :  1.4402847742012087e-05\n",
      "HQIC:  -10.732034980386237 \n",
      "\n",
      "Lag Order = 9\n",
      "AIC :  -11.116894503144817\n",
      "BIC :  -9.876581373781697\n",
      "FPE :  1.5319777444474368e-05\n",
      "HQIC:  -10.625444455478219 \n",
      "\n",
      "Lag Order = 10\n",
      "AIC :  -11.004986090551874\n",
      "BIC :  -9.622939970933658\n",
      "FPE :  1.7360264757206034e-05\n",
      "HQIC:  -10.458106984268888 \n",
      "\n",
      "Lag Order = 11\n",
      "AIC :  -10.84920863230356\n",
      "BIC :  -9.323085630285142\n",
      "FPE :  2.064008460735414e-05\n",
      "HQIC:  -10.24616489948161 \n",
      "\n",
      "Lag Order = 12\n",
      "AIC :  -10.693197096777155\n",
      "BIC :  -9.020591504549742\n",
      "FPE :  2.4673069746272772e-05\n",
      "HQIC:  -10.033246964730044 \n",
      "\n"
     ]
    }
   ],
   "source": [
    "for i in [1,2,3,4,5,6,7,8,9,10,11,12]:\n",
    "    result = model.fit(i)\n",
    "    try:\n",
    "        print('Lag Order =', i)\n",
    "        print('AIC : ', result.aic)\n",
    "        print('BIC : ', result.bic)\n",
    "        print('FPE : ', result.fpe)\n",
    "        print('HQIC: ', result.hqic, '\\n')\n",
    "    except:\n",
    "        continue"
   ]
  },
  {
   "cell_type": "markdown",
   "id": "f25fca86-49a1-4c13-a3e8-8bd1aeadb860",
   "metadata": {},
   "source": [
    "**Result**: The lag order p=6 on the basis of AIC  \n",
    "**Step 5**: Make sure that the VAR is well-specified. For example, ensure that there is no serial correlation in the residuals. If need be, increase p until any autocorrelation issues are resolved."
   ]
  },
  {
   "cell_type": "code",
   "execution_count": 25,
   "id": "bda8c9e3-5e73-4a23-858e-cecbab78efb5",
   "metadata": {},
   "outputs": [],
   "source": [
    "model = VAR(np.asarray(train))\n",
    "model_fitted = model.fit(6)"
   ]
  },
  {
   "cell_type": "code",
   "execution_count": 27,
   "id": "c0a507c5-2d61-4ea3-9726-4e70b474f33a",
   "metadata": {},
   "outputs": [
    {
     "name": "stdout",
     "output_type": "stream",
     "text": [
      "workplaces_av : 2.0\n",
      "p : 1.96\n"
     ]
    }
   ],
   "source": [
    "#Check for Serial Correlation of Residuals (Errors) using Durbin Watson Statistic\n",
    "#The value of this statistic can vary between 0 and 4. \n",
    "#The closer it is to the value 2, then there is no significant serial correlation. \n",
    "#The closer to 0, there is a positive serial correlation, \n",
    "#and the closer it is to 4 implies negative serial correlation.\n",
    "\n",
    "\n",
    "from statsmodels.stats.stattools import durbin_watson\n",
    "out = durbin_watson(model_fitted.resid)\n",
    "\n",
    "for col, val in zip(london.columns, out):\n",
    "    print(col, ':', round(val, 2))"
   ]
  },
  {
   "cell_type": "markdown",
   "id": "5fa550a6-fc0e-4ed7-896c-7a5c19055f20",
   "metadata": {},
   "source": [
    "**Result**: There is no significant correlation between in the residuals\n",
    "\n",
    "**Step 6**: If two or more of the time-series have the same order of integration, at Step 1, then test to see if they are cointegrated, preferably using Johansen’s methodology (based on your VAR) for a reliable result."
   ]
  },
  {
   "cell_type": "code",
   "execution_count": 39,
   "id": "9260c166-c794-4333-a5d2-96300a8194d5",
   "metadata": {},
   "outputs": [
    {
     "name": "stdout",
     "output_type": "stream",
     "text": [
      "<statsmodels.tsa.vector_ar.vecm.JohansenTestResult object at 0x7fb8f81fdfd0>\n"
     ]
    }
   ],
   "source": [
    "from statsmodels.tsa.vector_ar.vecm import coint_johansen\n",
    "\n",
    "result = coint_johansen(np.asarray(london),0,1)\n",
    "print(result)"
   ]
  }
 ],
 "metadata": {
  "kernelspec": {
   "display_name": "Python 3 (ipykernel)",
   "language": "python",
   "name": "python3"
  },
  "language_info": {
   "codemirror_mode": {
    "name": "ipython",
    "version": 3
   },
   "file_extension": ".py",
   "mimetype": "text/x-python",
   "name": "python",
   "nbconvert_exporter": "python",
   "pygments_lexer": "ipython3",
   "version": "3.8.2"
  }
 },
 "nbformat": 4,
 "nbformat_minor": 5
}
