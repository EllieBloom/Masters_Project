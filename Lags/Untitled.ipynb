{
 "cells": [
  {
   "cell_type": "code",
   "execution_count": null,
   "id": "d4b079c6",
   "metadata": {},
   "outputs": [],
   "source": [
    "# # Plotting Dynamic Time Warping\n",
    "\n",
    "# Plan here is to plot the dynamic time warping graphs that show the identification of the different points. The input data is three csv's found in this directory.\n",
    "\n",
    "# In[5]:\n",
    "\n",
    "\n",
    "import numpy as np\n",
    "import matplotlib.pyplot as plt\n",
    "import pandas as pd\n"
   ]
  },
  {
   "cell_type": "code",
   "execution_count": null,
   "id": "5ab13fd2",
   "metadata": {},
   "outputs": [],
   "source": [
    "\n",
    "\n",
    "# In[2]:\n",
    "\n",
    "\n",
    "path = '/Users/elliebloom/Desktop/Masters/Project/Analysis/Time_series_analysis/DTW_data_plots/'\n",
    "\n"
   ]
  },
  {
   "cell_type": "code",
   "execution_count": null,
   "id": "4a0cdee9",
   "metadata": {},
   "outputs": [],
   "source": [
    "\n",
    "# Get data:\n",
    "\n",
    "# In[12]:\n",
    "\n",
    "\n",
    "mobs = pd.read_csv(f'{path}/mob_series.csv')\n",
    "prev = pd.read_csv(f'{path}/prev_series.csv')\n",
    "dtwi = pd.read_csv(f'{path}/dtw_indices.csv')\n"
   ]
  },
  {
   "cell_type": "code",
   "execution_count": null,
   "id": "2840ab6d",
   "metadata": {},
   "outputs": [],
   "source": [
    "\n",
    "\n",
    "# In[17]:\n",
    "\n",
    "\n",
    "mob_ind = np.asarray(dtwi['mob_index'])\n",
    "prev_ind = np.asarray(dtwi['prev_index'])\n",
    "\n"
   ]
  },
  {
   "cell_type": "code",
   "execution_count": null,
   "id": "b8d447cb",
   "metadata": {},
   "outputs": [],
   "source": [
    "\n",
    "# In[59]:\n",
    "\n",
    "\n",
    "mob_ind.shape\n"
   ]
  },
  {
   "cell_type": "code",
   "execution_count": null,
   "id": "ddfdf0d9",
   "metadata": {},
   "outputs": [],
   "source": [
    "\n",
    "\n",
    "# In[60]:\n",
    "\n",
    "\n",
    "inds = np.zeros((mob_ind.size, 2))\n",
    "for i in range(inds.shape[0]):\n",
    "    inds[i][0] = mob_ind[i]\n",
    "    inds[i][1] = prev_ind[i]\n",
    "\n"
   ]
  },
  {
   "cell_type": "code",
   "execution_count": null,
   "id": "2a30ed7d",
   "metadata": {},
   "outputs": [],
   "source": [
    "mob_series = np.asarray(mobs['series'])\n",
    "prev_series = np.asarray(prev['series'])\n",
    "\n",
    "inds = inds.astype(int)\n",
    "\n",
    "\n",
    "# In[84]:\n",
    "\n",
    "\n",
    "plt.rcParams[\"figure.figsize\"]\n",
    "\n",
    "\n",
    "# In[85]:\n",
    "\n",
    "\n",
    "plt.rcParams[\"figure.figsize\"]=(12,8)\n",
    "\n"
   ]
  },
  {
   "cell_type": "code",
   "execution_count": null,
   "id": "8e815d7f",
   "metadata": {},
   "outputs": [],
   "source": [
    "plt.plot(mob_series, 'blue')\n",
    "plt.plot(prev_series, 'green')\n",
    "plt.legend([\"Mobility\", \"Prevalence\"])\n",
    "c = 0\n",
    "for indices in inds:\n",
    "    x_data = [indices[0]-1, indices[1]-1]\n",
    "    y_data = [mob_series[indices[0]-1], prev_series[indices[1]-1]]\n",
    "    if c%5 == 0:\n",
    "        plt.plot(x_data, y_data, 'gray', linestyle='--')\n",
    "    c += 1\n",
    "# Next 3 lines remove axis labels   \n",
    "ax = plt.gca()\n",
    "ax.axes.xaxis.set_visible(False)\n",
    "ax.axes.yaxis.set_visible(False)\n",
    "plt.show()\n"
   ]
  },
  {
   "cell_type": "code",
   "execution_count": null,
   "id": "380ce8d2",
   "metadata": {},
   "outputs": [],
   "source": [
    "plt.plot(mob_series, 'blue')\n",
    "plt.plot(prev_series, 'green')\n",
    "plt.legend([\"Mobility\", \"Prevalence\"])\n",
    "c = 0\n",
    "for index in range(mob_series.shape[0]):\n",
    "    x_data = [index, index]\n",
    "    y_data = [mob_series[index], prev_series[index]]\n",
    "    if c%5 == 0:\n",
    "        plt.plot(x_data, y_data, 'gray', linestyle='--')\n",
    "    c += 1\n",
    "ax = plt.gca()\n",
    "ax.axes.xaxis.set_visible(False)\n",
    "ax.axes.yaxis.set_visible(False)\n",
    "plt.show()\n",
    "\n",
    "\n",
    "# In[ ]:"
   ]
  }
 ],
 "metadata": {
  "kernelspec": {
   "display_name": "Python 3",
   "language": "python",
   "name": "python3"
  },
  "language_info": {
   "codemirror_mode": {
    "name": "ipython",
    "version": 3
   },
   "file_extension": ".py",
   "mimetype": "text/x-python",
   "name": "python",
   "nbconvert_exporter": "python",
   "pygments_lexer": "ipython3",
   "version": "3.9.10"
  }
 },
 "nbformat": 4,
 "nbformat_minor": 5
}
